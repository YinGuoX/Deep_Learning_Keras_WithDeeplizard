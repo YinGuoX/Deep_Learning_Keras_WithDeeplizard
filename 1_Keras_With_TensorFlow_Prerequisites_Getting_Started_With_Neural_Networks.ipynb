{
  "nbformat": 4,
  "nbformat_minor": 0,
  "metadata": {
    "colab": {
      "name": "1_Keras With TensorFlow Prerequisites - Getting Started With Neural Networks.ipynb",
      "provenance": [],
      "collapsed_sections": [],
      "authorship_tag": "ABX9TyOq+mAZL4AETnuI7cBMzE2X",
      "include_colab_link": true
    },
    "kernelspec": {
      "name": "python3",
      "display_name": "Python 3"
    }
  },
  "cells": [
    {
      "cell_type": "markdown",
      "metadata": {
        "id": "view-in-github",
        "colab_type": "text"
      },
      "source": [
        "<a href=\"https://colab.research.google.com/github/YinGuoX/Deep_Learning_Keras_WithDeeplizard/blob/master/1_Keras_With_TensorFlow_Prerequisites_Getting_Started_With_Neural_Networks.ipynb\" target=\"_parent\"><img src=\"https://colab.research.google.com/assets/colab-badge.svg\" alt=\"Open In Colab\"/></a>"
      ]
    },
    {
      "cell_type": "markdown",
      "metadata": {
        "id": "UIV1ES3vFTMJ"
      },
      "source": [
        "# Keras With TensorFlow Prerequisites - Getting Started With Neural Networks\r\n",
        "## 1.为什么是Keras?\r\n",
        "Keras的开发着眼于实现快速实验。 因此，它非常用户友好，使我们仅需几个步骤就可以从构思到实现。\r\n",
        "\r\n",
        "实现的语法细节在两个API之间会略有不同，但是一旦您学习了一个，相对容易掌握另一个。 有时，对于特定的实现，一个API可能比其他API具有优势。\r\n",
        "\r\n",
        "特别是对于就业前景来说，了解不止一个API将使你的技能集合中包含更多的工具，而展示这些将使你成为更有价值的候选人。\r\n",
        "\r\n",
        "## 2.Tensorflow的整合\r\n",
        "\r\n",
        "Keras最初是由François Chollet创建的。 从历史上看，Keras是一个高级API，它位于三个较低级神经网络API之一的顶部，并充当这些较低级库的包装。 这些库被称为Keras后端引擎。\r\n",
        "\r\n",
        "您可以选择TensorFlow，Theano或CNTK作为您要使用的后端引擎。\r\n",
        "最终，TensorFlow成为Keras最受欢迎的后端引擎。\r\n",
        "\r\n",
        "因此，Keras与TensorFlow库集成在一起，现在与它完全打包在一起。\r\n",
        "\r\n",
        "现在，当您安装TensorFlow时，您也将自动获得Keras，因为它已成为TensorFlow库的一部分。\r\n",
        "\r\n",
        "### 2.1 Keras现在的差别\r\n",
        "\r\n",
        "从可用性的角度来看，import语句中在使用带有配置后端的Keras的旧方法与将Keras与TensorFlow集成的新方法之间进行了许多更改。\r\n",
        "\r\n",
        "例如，以前，我们可以使用以下import语句从Keras访问Dense模块。"
      ]
    },
    {
      "cell_type": "code",
      "metadata": {
        "id": "7s7NLfFFFNjN"
      },
      "source": [
        "from keras.layers import Dense"
      ],
      "execution_count": null,
      "outputs": []
    },
    {
      "cell_type": "markdown",
      "metadata": {
        "id": "ytatuy5LHI_d"
      },
      "source": [
        "现在，将Keras与TensorFlow结合使用，导入语句如下所示："
      ]
    },
    {
      "cell_type": "code",
      "metadata": {
        "id": "PycEjERfHH0W"
      },
      "source": [
        "from tensorflow.keras.layers import Dense"
      ],
      "execution_count": null,
      "outputs": []
    },
    {
      "cell_type": "markdown",
      "metadata": {
        "id": "AbccXmYKHTS8"
      },
      "source": [
        "在下面，您可以看到导入某些常见Keras模块的旧方法与新方法之间的区别。\r\n",
        "\r\n",
        "**在TensorFlow整合前**"
      ]
    },
    {
      "cell_type": "code",
      "metadata": {
        "id": "j0YvGawsHPT8"
      },
      "source": [
        "import keras\r\n",
        "from keras.models import Sequential\r\n",
        "from keras.layers import Activation\r\n",
        "from keras.layers.core import Dense\r\n",
        "from keras.optimizers import Adam\r\n",
        "from keras.metrics import categorical_crossentropy\r\n",
        "from keras.preprocessing.image import ImageDataGenerator\r\n",
        "from keras.layers.normalization import BatchNormalization\r\n",
        "from keras.layers.convolutional import Conv2D"
      ],
      "execution_count": null,
      "outputs": []
    },
    {
      "cell_type": "markdown",
      "metadata": {
        "id": "3aqUwoiUHcKU"
      },
      "source": [
        "**在TensorFlow整合后**"
      ]
    },
    {
      "cell_type": "code",
      "metadata": {
        "id": "9Ag7krWzHbds"
      },
      "source": [
        "import tensorflow\r\n",
        "from tensorflow import keras\r\n",
        "from tensorflow.keras.models import Sequential\r\n",
        "from tensorflow.keras.layers import Activation, Dense, BatchNormalization, Conv2D\r\n",
        "from tensorflow.keras.optimizers import Adam\r\n",
        "from tensorflow.keras.metrics import categorical_crossentropy\r\n",
        "from tensorflow.keras.preprocessing.image import ImageDataGenerator"
      ],
      "execution_count": null,
      "outputs": []
    }
  ]
}