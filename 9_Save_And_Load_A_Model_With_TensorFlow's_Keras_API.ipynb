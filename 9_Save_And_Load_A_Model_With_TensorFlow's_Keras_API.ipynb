{
  "nbformat": 4,
  "nbformat_minor": 0,
  "metadata": {
    "colab": {
      "name": "9_Save And Load A Model With TensorFlow's Keras API",
      "provenance": [],
      "collapsed_sections": [],
      "authorship_tag": "ABX9TyPJvRdJLYR+pXzeMaE5CX0o",
      "include_colab_link": true
    },
    "kernelspec": {
      "name": "python3",
      "display_name": "Python 3"
    }
  },
  "cells": [
    {
      "cell_type": "markdown",
      "metadata": {
        "id": "view-in-github",
        "colab_type": "text"
      },
      "source": [
        "<a href=\"https://colab.research.google.com/github/YinGuoX/Deep_Learning_Keras_WithDeeplizard/blob/master/9_Save_And_Load_A_Model_With_TensorFlow's_Keras_API.ipynb\" target=\"_parent\"><img src=\"https://colab.research.google.com/assets/colab-badge.svg\" alt=\"Open In Colab\"/></a>"
      ]
    },
    {
      "cell_type": "markdown",
      "metadata": {
        "id": "mn8jG5ODj5dw"
      },
      "source": [
        "# Save And Load A Model With TensorFlow's Keras API\r\n",
        "在本集中，我们将演示如何保存和加载tf.keras.Sequential神经网络。\r\n",
        "\r\n",
        "保存Keras模型有几种不同的方法。 多种机制各自以不同的方式保存模型，因此我们将对其进行一一学习。\r\n",
        "\r\n",
        "在前面的章节中，我们创建并训练了这个模型。我们将使用这个模型来演示不同的保存和加载技术。\r\n"
      ]
    },
    {
      "cell_type": "code",
      "metadata": {
        "colab": {
          "base_uri": "https://localhost:8080/"
        },
        "id": "_mIl0D1_j3xV",
        "outputId": "e4b6e28e-5421-444e-9fb0-22e3631aad5f"
      },
      "source": [
        "# 准备数据\r\n",
        "import numpy as np\r\n",
        "from random import randint\r\n",
        "from sklearn.utils import shuffle\r\n",
        "from sklearn.preprocessing import MinMaxScaler\r\n",
        "\r\n",
        "train_labels = []\r\n",
        "train_samples = []\r\n",
        "\r\n",
        "# 生成数据\r\n",
        "for i in range(50):\r\n",
        "    # 大约5%的年轻人确实经历过副作用\r\n",
        "    random_younger = randint(13,64)\r\n",
        "    train_samples.append(random_younger)\r\n",
        "    train_labels.append(1)\r\n",
        "\r\n",
        "    # 大约5%的老年人没有经历过副作用\r\n",
        "    random_older = randint(65,100)\r\n",
        "    train_samples.append(random_older)\r\n",
        "    train_labels.append(0)\r\n",
        "\r\n",
        "for i in range(1000):\r\n",
        "    # 大约95%的年轻人没有经历过副作用\r\n",
        "    random_younger = randint(13,64)\r\n",
        "    train_samples.append(random_younger)\r\n",
        "    train_labels.append(0)\r\n",
        "\r\n",
        "    # 大约95%的老年人确实经历过副作用\r\n",
        "    random_older = randint(65,100)\r\n",
        "    train_samples.append(random_older)\r\n",
        "    train_labels.append(1)\r\n",
        "\r\n",
        "train_labels = np.array(train_labels)\r\n",
        "train_samples = np.array(train_samples)\r\n",
        "train_labels,train_samples = shuffle(train_labels,train_samples)\r\n",
        "print(train_samples.shape)\r\n",
        "\r\n",
        "# 通过将每个特征缩放到给定的范围来转换特征。\r\n",
        "scaler = MinMaxScaler(feature_range=(0,1))\r\n",
        "\r\n",
        "scaled_train_samples = scaler.fit_transform(train_samples.reshape(-1,1))\r\n",
        "# 我们只是根据fit_transform（）函数默认情况下不接受一维数据的情况，将数据重塑为2D。\r\n",
        "print(train_samples.reshape(-1,1).shape)\r\n"
      ],
      "execution_count": null,
      "outputs": [
        {
          "output_type": "stream",
          "text": [
            "(2100,)\n",
            "(2100, 1)\n"
          ],
          "name": "stdout"
        }
      ]
    },
    {
      "cell_type": "code",
      "metadata": {
        "id": "kFbQtlUHk7rA"
      },
      "source": [
        "# 创建并且编译模型\r\n",
        "import tensorflow as tf\r\n",
        "from tensorflow import keras\r\n",
        "from tensorflow.keras.models import Sequential\r\n",
        "from tensorflow.keras.layers import Activation, Dense\r\n",
        "from tensorflow.keras.optimizers import Adam\r\n",
        "from tensorflow.keras.metrics import categorical_crossentropy\r\n",
        "\r\n",
        "model = Sequential([\r\n",
        "    Dense(units=16, input_shape=(1,), activation='relu'),\r\n",
        "    Dense(units=32, activation='relu'),\r\n",
        "    Dense(units=2, activation='softmax')\r\n",
        "])\r\n",
        "\r\n",
        "model.compile(optimizer=Adam(learning_rate=0.0001),\r\n",
        "              loss='sparse_categorical_crossentropy',\r\n",
        "              metrics=['accuracy'])\r\n"
      ],
      "execution_count": null,
      "outputs": []
    },
    {
      "cell_type": "code",
      "metadata": {
        "colab": {
          "base_uri": "https://localhost:8080/"
        },
        "id": "0ns2pF0Yk9qF",
        "outputId": "d3231a8b-793d-419f-b2a8-6c1d847aa25d"
      },
      "source": [
        "# 训练模型\r\n",
        "model.fit(\r\n",
        "    x = scaled_train_samples,\r\n",
        "    y = train_labels,\r\n",
        "    validation_split=0.1,\r\n",
        "    batch_size = 10,\r\n",
        "    epochs = 30,\r\n",
        "    verbose=2\r\n",
        ")"
      ],
      "execution_count": null,
      "outputs": [
        {
          "output_type": "stream",
          "text": [
            "Epoch 1/30\n",
            "189/189 - 0s - loss: 0.2744 - accuracy: 0.9317 - val_loss: 0.3240 - val_accuracy: 0.8762\n",
            "Epoch 2/30\n",
            "189/189 - 0s - loss: 0.2728 - accuracy: 0.9370 - val_loss: 0.3235 - val_accuracy: 0.8762\n",
            "Epoch 3/30\n",
            "189/189 - 0s - loss: 0.2716 - accuracy: 0.9317 - val_loss: 0.3210 - val_accuracy: 0.8952\n",
            "Epoch 4/30\n",
            "189/189 - 0s - loss: 0.2705 - accuracy: 0.9354 - val_loss: 0.3208 - val_accuracy: 0.8952\n",
            "Epoch 5/30\n",
            "189/189 - 0s - loss: 0.2693 - accuracy: 0.9376 - val_loss: 0.3211 - val_accuracy: 0.8952\n",
            "Epoch 6/30\n",
            "189/189 - 0s - loss: 0.2684 - accuracy: 0.9354 - val_loss: 0.3191 - val_accuracy: 0.8952\n",
            "Epoch 7/30\n",
            "189/189 - 0s - loss: 0.2676 - accuracy: 0.9376 - val_loss: 0.3190 - val_accuracy: 0.8952\n",
            "Epoch 8/30\n",
            "189/189 - 0s - loss: 0.2667 - accuracy: 0.9386 - val_loss: 0.3189 - val_accuracy: 0.8952\n",
            "Epoch 9/30\n",
            "189/189 - 0s - loss: 0.2659 - accuracy: 0.9370 - val_loss: 0.3189 - val_accuracy: 0.8952\n",
            "Epoch 10/30\n",
            "189/189 - 0s - loss: 0.2650 - accuracy: 0.9376 - val_loss: 0.3192 - val_accuracy: 0.8952\n",
            "Epoch 11/30\n",
            "189/189 - 0s - loss: 0.2642 - accuracy: 0.9376 - val_loss: 0.3190 - val_accuracy: 0.8952\n",
            "Epoch 12/30\n",
            "189/189 - 0s - loss: 0.2635 - accuracy: 0.9376 - val_loss: 0.3182 - val_accuracy: 0.8952\n",
            "Epoch 13/30\n",
            "189/189 - 0s - loss: 0.2628 - accuracy: 0.9418 - val_loss: 0.3195 - val_accuracy: 0.8952\n",
            "Epoch 14/30\n",
            "189/189 - 0s - loss: 0.2622 - accuracy: 0.9376 - val_loss: 0.3181 - val_accuracy: 0.8952\n",
            "Epoch 15/30\n",
            "189/189 - 0s - loss: 0.2614 - accuracy: 0.9381 - val_loss: 0.3174 - val_accuracy: 0.8952\n",
            "Epoch 16/30\n",
            "189/189 - 0s - loss: 0.2607 - accuracy: 0.9444 - val_loss: 0.3190 - val_accuracy: 0.8952\n",
            "Epoch 17/30\n",
            "189/189 - 0s - loss: 0.2602 - accuracy: 0.9392 - val_loss: 0.3182 - val_accuracy: 0.8952\n",
            "Epoch 18/30\n",
            "189/189 - 0s - loss: 0.2595 - accuracy: 0.9376 - val_loss: 0.3184 - val_accuracy: 0.8952\n",
            "Epoch 19/30\n",
            "189/189 - 0s - loss: 0.2589 - accuracy: 0.9397 - val_loss: 0.3177 - val_accuracy: 0.8952\n",
            "Epoch 20/30\n",
            "189/189 - 0s - loss: 0.2584 - accuracy: 0.9381 - val_loss: 0.3172 - val_accuracy: 0.8952\n",
            "Epoch 21/30\n",
            "189/189 - 0s - loss: 0.2578 - accuracy: 0.9397 - val_loss: 0.3162 - val_accuracy: 0.9048\n",
            "Epoch 22/30\n",
            "189/189 - 0s - loss: 0.2572 - accuracy: 0.9439 - val_loss: 0.3162 - val_accuracy: 0.9048\n",
            "Epoch 23/30\n",
            "189/189 - 0s - loss: 0.2566 - accuracy: 0.9423 - val_loss: 0.3159 - val_accuracy: 0.9048\n",
            "Epoch 24/30\n",
            "189/189 - 0s - loss: 0.2561 - accuracy: 0.9434 - val_loss: 0.3160 - val_accuracy: 0.9048\n",
            "Epoch 25/30\n",
            "189/189 - 0s - loss: 0.2554 - accuracy: 0.9450 - val_loss: 0.3162 - val_accuracy: 0.9048\n",
            "Epoch 26/30\n",
            "189/189 - 0s - loss: 0.2549 - accuracy: 0.9429 - val_loss: 0.3153 - val_accuracy: 0.9048\n",
            "Epoch 27/30\n",
            "189/189 - 0s - loss: 0.2544 - accuracy: 0.9466 - val_loss: 0.3168 - val_accuracy: 0.8952\n",
            "Epoch 28/30\n",
            "189/189 - 0s - loss: 0.2539 - accuracy: 0.9439 - val_loss: 0.3153 - val_accuracy: 0.9048\n",
            "Epoch 29/30\n",
            "189/189 - 0s - loss: 0.2535 - accuracy: 0.9460 - val_loss: 0.3163 - val_accuracy: 0.9048\n",
            "Epoch 30/30\n",
            "189/189 - 0s - loss: 0.2530 - accuracy: 0.9455 - val_loss: 0.3149 - val_accuracy: 0.9048\n"
          ],
          "name": "stdout"
        },
        {
          "output_type": "execute_result",
          "data": {
            "text/plain": [
              "<tensorflow.python.keras.callbacks.History at 0x7fd51b3ed4a8>"
            ]
          },
          "metadata": {
            "tags": []
          },
          "execution_count": 4
        }
      ]
    },
    {
      "cell_type": "markdown",
      "metadata": {
        "id": "aZ13PaOplJ5U"
      },
      "source": [
        "## 1. 保存和加载整个模型\r\n",
        "如果我们想在模型经过训练后保存它的当前状态，以便以后可以使用它，我们可以对模型调用save()函数。对于save()，我们传入文件路径和我们想要保存模型的文件的名称，扩展名为h5。"
      ]
    },
    {
      "cell_type": "code",
      "metadata": {
        "colab": {
          "base_uri": "https://localhost:8080/"
        },
        "id": "HoaMhUWCle5a",
        "outputId": "f76b6ab4-0786-4b1d-d92c-b19c5ccf0d77"
      },
      "source": [
        "# 加载colab云盘数据\r\n",
        "from google.colab import drive\r\n",
        "drive.mount('/content/drive')"
      ],
      "execution_count": null,
      "outputs": [
        {
          "output_type": "stream",
          "text": [
            "Mounted at /content/drive\n"
          ],
          "name": "stdout"
        }
      ]
    },
    {
      "cell_type": "code",
      "metadata": {
        "colab": {
          "base_uri": "https://localhost:8080/",
          "height": 70
        },
        "id": "eQsnMD74lpEO",
        "outputId": "d860392f-8ecd-42fb-a6ac-6dcfbc1ada98"
      },
      "source": [
        "import os\r\n",
        "path = \"/content/drive/My Drive/DeepLearning_AI_Course/Deeplizard/Keras - Python Deep Learning Neural Network API/models\"\r\n",
        "\r\n",
        "# 更改当前系统的路径\r\n",
        "os.chdir(path)\r\n",
        "print(os.listdir())\r\n",
        "\r\n",
        "# 获得当前路径\r\n",
        "os.getcwd()"
      ],
      "execution_count": null,
      "outputs": [
        {
          "output_type": "stream",
          "text": [
            "[]\n"
          ],
          "name": "stdout"
        },
        {
          "output_type": "execute_result",
          "data": {
            "application/vnd.google.colaboratory.intrinsic+json": {
              "type": "string"
            },
            "text/plain": [
              "'/content/drive/My Drive/DeepLearning_AI_Course/Deeplizard/Keras - Python Deep Learning Neural Network API/models'"
            ]
          },
          "metadata": {
            "tags": []
          },
          "execution_count": 10
        }
      ]
    },
    {
      "cell_type": "code",
      "metadata": {
        "id": "ZC-tXBFEk_AL"
      },
      "source": [
        "model.save('./9_medical_trial_model.h5')"
      ],
      "execution_count": null,
      "outputs": []
    },
    {
      "cell_type": "markdown",
      "metadata": {
        "id": "aG-CsyTWmOl-"
      },
      "source": [
        "这种保存方法将保存有关模型的所有信息，包括架构，权重，优化器，优化器的状态，学习率，损失等。\r\n",
        "\r\n",
        "**注意：**如果您愿意，此函数还可以将模型另存为Tensorflow的SavedModel。\r\n",
        "\r\n",
        "现在我们已经保存了这个模型，我们可以在以后加载这个模型。\r\n",
        "\r\n",
        "为此，我们首先导入load_model（）函数。 然后，我们可以通过指向磁盘上保存的模型来调用函数以加载模型。"
      ]
    },
    {
      "cell_type": "code",
      "metadata": {
        "id": "KK8kEXf8lYPx"
      },
      "source": [
        "from tensorflow.keras.models import load_model\r\n",
        "new_model = load_model('./9_medical_trial_model.h5')"
      ],
      "execution_count": null,
      "outputs": []
    },
    {
      "cell_type": "markdown",
      "metadata": {
        "id": "niiTd0Hpmtvp"
      },
      "source": [
        "我们可以通过调用summary()并在模型上获取weights()来验证加载的模型与保存的模型具有相同的体系结构和权重。"
      ]
    },
    {
      "cell_type": "code",
      "metadata": {
        "colab": {
          "base_uri": "https://localhost:8080/"
        },
        "id": "v0b5deqZmqyL",
        "outputId": "5370e306-c4c7-4b88-e7d6-77a2160ca202"
      },
      "source": [
        "new_model.summary()"
      ],
      "execution_count": null,
      "outputs": [
        {
          "output_type": "stream",
          "text": [
            "Model: \"sequential\"\n",
            "_________________________________________________________________\n",
            "Layer (type)                 Output Shape              Param #   \n",
            "=================================================================\n",
            "dense (Dense)                (None, 16)                32        \n",
            "_________________________________________________________________\n",
            "dense_1 (Dense)              (None, 32)                544       \n",
            "_________________________________________________________________\n",
            "dense_2 (Dense)              (None, 2)                 66        \n",
            "=================================================================\n",
            "Total params: 642\n",
            "Trainable params: 642\n",
            "Non-trainable params: 0\n",
            "_________________________________________________________________\n"
          ],
          "name": "stdout"
        }
      ]
    },
    {
      "cell_type": "markdown",
      "metadata": {
        "id": "dqqBPr1Pm1Nj"
      },
      "source": [
        "我们还可以通过在加载的模型上调用model.optimizer和model.loss来检查有关模型的属性，例如优化器和损失，并将结果与​​先前保存的模型进行比较。"
      ]
    },
    {
      "cell_type": "code",
      "metadata": {
        "colab": {
          "base_uri": "https://localhost:8080/"
        },
        "id": "EcT0WcaEmw_b",
        "outputId": "8c996853-4ab4-4d11-94d9-448c2db27350"
      },
      "source": [
        "print(new_model.optimizer)\r\n",
        "print(model.optimizer)\r\n",
        "print(new_model.loss)\r\n",
        "print(model.loss)\r\n",
        "print(new_model.weights[0])\r\n",
        "print(model.weights[0])"
      ],
      "execution_count": null,
      "outputs": [
        {
          "output_type": "stream",
          "text": [
            "<tensorflow.python.keras.optimizer_v2.adam.Adam object at 0x7fd51bca7320>\n",
            "<tensorflow.python.keras.optimizer_v2.adam.Adam object at 0x7fd560f216a0>\n",
            "<function sparse_categorical_crossentropy at 0x7fd527002158>\n",
            "sparse_categorical_crossentropy\n",
            "<tf.Variable 'dense/kernel:0' shape=(1, 16) dtype=float32, numpy=\n",
            "array([[-0.12902698,  0.6980749 ,  0.75187796, -0.47413838, -0.45131892,\n",
            "        -0.29108244, -0.07799387,  0.3191673 ,  0.268593  , -0.22947463,\n",
            "         0.38918188, -0.32091162, -0.4051624 , -0.4381077 ,  0.37199572,\n",
            "        -0.1618033 ]], dtype=float32)>\n",
            "<tf.Variable 'dense/kernel:0' shape=(1, 16) dtype=float32, numpy=\n",
            "array([[-0.12902698,  0.6980749 ,  0.75187796, -0.47413838, -0.45131892,\n",
            "        -0.29108244, -0.07799387,  0.3191673 ,  0.268593  , -0.22947463,\n",
            "         0.38918188, -0.32091162, -0.4051624 , -0.4381077 ,  0.37199572,\n",
            "        -0.1618033 ]], dtype=float32)>\n"
          ],
          "name": "stdout"
        }
      ]
    },
    {
      "cell_type": "markdown",
      "metadata": {
        "id": "NPDImb2OnN6e"
      },
      "source": [
        "这是保存和加载模型的最全面的方法。"
      ]
    },
    {
      "cell_type": "markdown",
      "metadata": {
        "id": "HKU6Yh9LnSdK"
      },
      "source": [
        "## 2. 只保存和加载模型架构\r\n",
        "还有另一种方法，我们只保存模型的架构。这不会节省模型权重、配置、优化器、损失或其他任何东西。这只保存了模型的架构。\r\n",
        "\r\n",
        "我们可以通过调用model.to_json（）来实现。 这会将模型的架构另存为JSON字符串。 如果我们打印出字符串，我们可以确切看到它的样子。\r\n"
      ]
    },
    {
      "cell_type": "code",
      "metadata": {
        "colab": {
          "base_uri": "https://localhost:8080/",
          "height": 195
        },
        "id": "BYhieLsZm7i-",
        "outputId": "2ff1af67-60a8-4e18-c09d-0c93f583cb33"
      },
      "source": [
        "json_string = model.to_json()\r\n",
        "json_string"
      ],
      "execution_count": null,
      "outputs": [
        {
          "output_type": "execute_result",
          "data": {
            "application/vnd.google.colaboratory.intrinsic+json": {
              "type": "string"
            },
            "text/plain": [
              "'{\"class_name\": \"Sequential\", \"config\": {\"name\": \"sequential\", \"layers\": [{\"class_name\": \"InputLayer\", \"config\": {\"batch_input_shape\": [null, 1], \"dtype\": \"float32\", \"sparse\": false, \"ragged\": false, \"name\": \"dense_input\"}}, {\"class_name\": \"Dense\", \"config\": {\"name\": \"dense\", \"trainable\": true, \"batch_input_shape\": [null, 1], \"dtype\": \"float32\", \"units\": 16, \"activation\": \"relu\", \"use_bias\": true, \"kernel_initializer\": {\"class_name\": \"GlorotUniform\", \"config\": {\"seed\": null}}, \"bias_initializer\": {\"class_name\": \"Zeros\", \"config\": {}}, \"kernel_regularizer\": null, \"bias_regularizer\": null, \"activity_regularizer\": null, \"kernel_constraint\": null, \"bias_constraint\": null}}, {\"class_name\": \"Dense\", \"config\": {\"name\": \"dense_1\", \"trainable\": true, \"dtype\": \"float32\", \"units\": 32, \"activation\": \"relu\", \"use_bias\": true, \"kernel_initializer\": {\"class_name\": \"GlorotUniform\", \"config\": {\"seed\": null}}, \"bias_initializer\": {\"class_name\": \"Zeros\", \"config\": {}}, \"kernel_regularizer\": null, \"bias_regularizer\": null, \"activity_regularizer\": null, \"kernel_constraint\": null, \"bias_constraint\": null}}, {\"class_name\": \"Dense\", \"config\": {\"name\": \"dense_2\", \"trainable\": true, \"dtype\": \"float32\", \"units\": 2, \"activation\": \"softmax\", \"use_bias\": true, \"kernel_initializer\": {\"class_name\": \"GlorotUniform\", \"config\": {\"seed\": null}}, \"bias_initializer\": {\"class_name\": \"Zeros\", \"config\": {}}, \"kernel_regularizer\": null, \"bias_regularizer\": null, \"activity_regularizer\": null, \"kernel_constraint\": null, \"bias_constraint\": null}}]}, \"keras_version\": \"2.4.0\", \"backend\": \"tensorflow\"}'"
            ]
          },
          "metadata": {
            "tags": []
          },
          "execution_count": 20
        }
      ]
    },
    {
      "cell_type": "markdown",
      "metadata": {
        "id": "yX0IIRUSno0x"
      },
      "source": [
        "现在我们已经保存了这个模型结构，我们可以从它创建一个新的模型。首先，我们将从json函数中导入所需的模型，然后我们可以加载模型架构。"
      ]
    },
    {
      "cell_type": "code",
      "metadata": {
        "id": "a_pZ4-6kniXy"
      },
      "source": [
        "from tensorflow.keras.models import model_from_json\r\n",
        "model_architecture = model_from_json(json_string)"
      ],
      "execution_count": null,
      "outputs": []
    },
    {
      "cell_type": "markdown",
      "metadata": {
        "id": "vRuI8goJn6HQ"
      },
      "source": [
        "通过打印模型摘要，我们可以验证新模型具有与先前保存的模型相同的体系结构。"
      ]
    },
    {
      "cell_type": "code",
      "metadata": {
        "colab": {
          "base_uri": "https://localhost:8080/"
        },
        "id": "CvIqoqW5n3TS",
        "outputId": "f078325c-f6d7-4d9a-b6de-8a62195411d0"
      },
      "source": [
        "model_architecture.summary()"
      ],
      "execution_count": null,
      "outputs": [
        {
          "output_type": "stream",
          "text": [
            "Model: \"sequential\"\n",
            "_________________________________________________________________\n",
            "Layer (type)                 Output Shape              Param #   \n",
            "=================================================================\n",
            "dense (Dense)                (None, 16)                32        \n",
            "_________________________________________________________________\n",
            "dense_1 (Dense)              (None, 32)                544       \n",
            "_________________________________________________________________\n",
            "dense_2 (Dense)              (None, 2)                 66        \n",
            "=================================================================\n",
            "Total params: 642\n",
            "Trainable params: 642\n",
            "Non-trainable params: 0\n",
            "_________________________________________________________________\n"
          ],
          "name": "stdout"
        }
      ]
    },
    {
      "cell_type": "markdown",
      "metadata": {
        "id": "MIGuNvpsoCdp"
      },
      "source": [
        "**注意:**我们也可以使用相同的方法在YAML字符串之间来回保存模型架构。 为此，我们以与调用json函数相同的方式使用函数to_yaml（）和model_from_yaml（）。"
      ]
    },
    {
      "cell_type": "markdown",
      "metadata": {
        "id": "LnaYcLCpoRxB"
      },
      "source": [
        "## 3. 保存和加载模型的权重\r\n",
        "我们将讨论的最后一种保存机制仅保存模型的权重。\r\n",
        "\r\n",
        "为此，我们可以调用model.save_weights（）并传入路径和文件名，以将权重保存为h5扩展名。"
      ]
    },
    {
      "cell_type": "code",
      "metadata": {
        "id": "oMBloJmcn9C7"
      },
      "source": [
        "model.save_weights('./9_my_model_weights.h5')"
      ],
      "execution_count": null,
      "outputs": []
    },
    {
      "cell_type": "markdown",
      "metadata": {
        "id": "Xq0fMCJZoeIZ"
      },
      "source": [
        "稍后，我们可以将保存的权重加载到新模型中，但是在保存权重之前，新模型需要具有与旧模型相同的体系结构。"
      ]
    },
    {
      "cell_type": "code",
      "metadata": {
        "id": "8wTa7Q7vodTg"
      },
      "source": [
        "model2 = Sequential([\r\n",
        "    Dense(units=16, input_shape=(1,), activation='relu'),\r\n",
        "    Dense(units=32, activation='relu'),\r\n",
        "    Dense(units=2, activation='softmax')\r\n",
        "])"
      ],
      "execution_count": null,
      "outputs": []
    },
    {
      "cell_type": "code",
      "metadata": {
        "colab": {
          "base_uri": "https://localhost:8080/"
        },
        "id": "tpsiLSf0oiCx",
        "outputId": "ec4d39bf-eb85-4f1c-ec5f-01e4c0335c44"
      },
      "source": [
        "model2.load_weights('./9_my_model_weights.h5')\r\n",
        "print(model.weights[0])\r\n",
        "print(model2.weights[0])"
      ],
      "execution_count": null,
      "outputs": [
        {
          "output_type": "stream",
          "text": [
            "<tf.Variable 'dense/kernel:0' shape=(1, 16) dtype=float32, numpy=\n",
            "array([[-0.12902698,  0.6980749 ,  0.75187796, -0.47413838, -0.45131892,\n",
            "        -0.29108244, -0.07799387,  0.3191673 ,  0.268593  , -0.22947463,\n",
            "         0.38918188, -0.32091162, -0.4051624 , -0.4381077 ,  0.37199572,\n",
            "        -0.1618033 ]], dtype=float32)>\n",
            "<tf.Variable 'dense_3/kernel:0' shape=(1, 16) dtype=float32, numpy=\n",
            "array([[-0.12902698,  0.6980749 ,  0.75187796, -0.47413838, -0.45131892,\n",
            "        -0.29108244, -0.07799387,  0.3191673 ,  0.268593  , -0.22947463,\n",
            "         0.38918188, -0.32091162, -0.4051624 , -0.4381077 ,  0.37199572,\n",
            "        -0.1618033 ]], dtype=float32)>\n"
          ],
          "name": "stdout"
        }
      ]
    },
    {
      "cell_type": "markdown",
      "metadata": {
        "id": "BqYZWqxao25m"
      },
      "source": [
        "现在，我们已经了解了如何仅保存模型的权重并将这些权重部署到新模型，如何仅保存架构，然后将其部署到模型，以及如何保存有关模型的所有内容并将其部署到（稍后再说）。 这些保存和加载机制中的每一个在不同情况下都可能有用。"
      ]
    },
    {
      "cell_type": "code",
      "metadata": {
        "id": "fJOcr4hzopdT"
      },
      "source": [
        ""
      ],
      "execution_count": null,
      "outputs": []
    }
  ]
}