{
  "nbformat": 4,
  "nbformat_minor": 0,
  "metadata": {
    "colab": {
      "name": "18_Process Images For Fine-Tuned MobileNet With TensorFlow's Keras API.ipynb",
      "provenance": [],
      "authorship_tag": "ABX9TyNuz5xTl8fltkXoeGPCp3kV",
      "include_colab_link": true
    },
    "kernelspec": {
      "name": "python3",
      "display_name": "Python 3"
    }
  },
  "cells": [
    {
      "cell_type": "markdown",
      "metadata": {
        "id": "view-in-github",
        "colab_type": "text"
      },
      "source": [
        "<a href=\"https://colab.research.google.com/github/YinGuoX/Deep_Learning_Keras_WithDeeplizard/blob/master/18_Process_Images_For_Fine_Tuned_MobileNet_With_TensorFlow's_Keras_API.ipynb\" target=\"_parent\"><img src=\"https://colab.research.google.com/assets/colab-badge.svg\" alt=\"Open In Colab\"/></a>"
      ]
    },
    {
      "cell_type": "markdown",
      "metadata": {
        "id": "oRkRu6UTcJzo"
      },
      "source": [
        "# Process Images For Fine-Tuned MobileNet With TensorFlow's Keras API\r\n",
        "在本集中，我们将基于对MobileNet的了解来准备和处理自己的手语数字定制图像数据集。 这些图像将在以后用于训练我们经过微调的MobileNet模型。\r\n",
        "\r\n",
        "## 1. 获取数据\r\n",
        "我们现在使用的新数据集没有包含在ImageNet中的类，也不是非常类似于MobileNet最初训练的ImageNet类。稍后，我们将一起完成调整模型的过程，以根据新数据进行预测。\r\n",
        "\r\n",
        "这个数据集包含了手语数字的图像。共有10个类别，分别标为0到9，每个类别都由手的图像组成，这些图像表示特定数字的符号。\r\n",
        "\r\n",
        "每个类别都有204到208个样本。 总数据集包含2062个样本。\r\n",
        "\r\n",
        "该数据集在[Kaggle](https://www.kaggle.com/ardamavi/sign-language-digits-dataset)上可以用作灰度图像，在[Github](https://github.com/ardamavi/Sign-Language-Digits-Dataset)上也可以用作RGB图像。 我们将使用RGB数据集。\r\n",
        "\r\n",
        "\r\n",
        "## 2. 组织数据\r\n",
        "在我们开始调优模型之前，我们首先需要组织磁盘上的图像。它们将以我们在前几集中使用的猫和狗数据集相同的方式进行组织。\r\n",
        "\r\n",
        "通过代码，我们将创建train、validation和test集的目录，将图像组织到磁盘上它们各自的0到9的类中，然后洗牌数据集并将图像分成train、validation和test集。\r\n",
        "\r\n",
        "首先，下载数据并保存到your-current-nb-directory / data / Sign-Language-Digits-Dataset。 提取标记为0到9的子目录，并将这些目录直接嵌套在Sign-Language-Digits-Dataset目录下。\r\n",
        "\r\n",
        "**注意：**前两行代码将目录更改为存储数据的相关目录，然后检查以确保目录结构尚未设置。\r\n"
      ]
    },
    {
      "cell_type": "code",
      "metadata": {
        "colab": {
          "base_uri": "https://localhost:8080/"
        },
        "id": "obN-ZWvVcDDX",
        "outputId": "ddbd3571-71c1-43e0-e76b-279c0fc5b5f7"
      },
      "source": [
        "# 在colab上使用的云端数据\r\n",
        "from google.colab import drive\r\n",
        "drive.mount('/content/drive')"
      ],
      "execution_count": null,
      "outputs": [
        {
          "output_type": "stream",
          "text": [
            "Drive already mounted at /content/drive; to attempt to forcibly remount, call drive.mount(\"/content/drive\", force_remount=True).\n"
          ],
          "name": "stdout"
        }
      ]
    },
    {
      "cell_type": "code",
      "metadata": {
        "colab": {
          "base_uri": "https://localhost:8080/",
          "height": 70
        },
        "id": "4kawuJwUdHHQ",
        "outputId": "ee3bb55a-0bb4-4065-c76a-2a0604c8609b"
      },
      "source": [
        "import os\r\n",
        "path = \"/content/drive/My Drive/DeepLearning_AI_Course/Deeplizard/Keras - Python Deep Learning Neural Network API/Data/Sign-Language-Digits-Dataset\"\r\n",
        "\r\n",
        "# 更改当前系统的路径\r\n",
        "os.chdir(path)\r\n",
        "# 显示当前路径的文件夹名字\r\n",
        "print(os.listdir())\r\n",
        "\r\n",
        "# 获得当前路径\r\n",
        "os.getcwd()"
      ],
      "execution_count": null,
      "outputs": [
        {
          "output_type": "stream",
          "text": [
            "['3', '9', '5', '1', '2', '0', '8', '4', '6', '7', 'valid', 'test']\n"
          ],
          "name": "stdout"
        },
        {
          "output_type": "execute_result",
          "data": {
            "application/vnd.google.colaboratory.intrinsic+json": {
              "type": "string"
            },
            "text/plain": [
              "'/content/drive/My Drive/DeepLearning_AI_Course/Deeplizard/Keras - Python Deep Learning Neural Network API/Data/Sign-Language-Digits-Dataset'"
            ]
          },
          "metadata": {
            "tags": []
          },
          "execution_count": 14
        }
      ]
    },
    {
      "cell_type": "code",
      "metadata": {
        "id": "c8rbJU9kdSy5"
      },
      "source": [
        "import os\r\n",
        "import shutil\r\n",
        "import random"
      ],
      "execution_count": null,
      "outputs": []
    },
    {
      "cell_type": "code",
      "metadata": {
        "colab": {
          "base_uri": "https://localhost:8080/"
        },
        "id": "_WrPNDxBd2qT",
        "outputId": "e5b0ac38-030f-4c15-d78f-85a2edad5647"
      },
      "source": [
        "if os.path.isdir('train/0/') is False:\r\n",
        "  os.mkdir('train')\r\n",
        "  for i in range(0,10):\r\n",
        "    shutil.move('{}'.format(i),'train')\r\n",
        "    \r\n",
        "print(os.listdir())"
      ],
      "execution_count": null,
      "outputs": [
        {
          "output_type": "stream",
          "text": [
            "['valid', 'test', 'train']\n"
          ],
          "name": "stdout"
        }
      ]
    },
    {
      "cell_type": "code",
      "metadata": {
        "id": "SMHcBtCPehE-"
      },
      "source": [
        "for i in range(0, 10):\r\n",
        "    os.mkdir(f'valid/{i}')\r\n",
        "    os.mkdir(f'test/{i}')\r\n",
        "\r\n",
        "    valid_samples = random.sample(os.listdir(f'train/{i}'), 30)\r\n",
        "    for j in valid_samples:\r\n",
        "        shutil.move(f'train/{i}/{j}', f'valid/{i}')\r\n",
        "\r\n",
        "    test_samples = random.sample(os.listdir(f'train/{i}'), 5)\r\n",
        "    for k in test_samples:\r\n",
        "        shutil.move(f'train/{i}/{k}', f'test/{i}')"
      ],
      "execution_count": null,
      "outputs": []
    },
    {
      "cell_type": "markdown",
      "metadata": {
        "id": "iOL4Ogp0hySe"
      },
      "source": [
        "## 3.处理数据\r\n",
        "在将图像数据全部组织在磁盘上之后，我们需要以与之前使用的cat和dog数据集完全相同的方式，为训练，验证和测试集创建字典迭代器。"
      ]
    },
    {
      "cell_type": "code",
      "metadata": {
        "colab": {
          "base_uri": "https://localhost:8080/"
        },
        "id": "xpGH5iCAhjcb",
        "outputId": "720616ca-ca43-42bc-cff2-4809c2fd158d"
      },
      "source": [
        "os.chdir(\"..\")\r\n",
        "print(os.listdir())"
      ],
      "execution_count": null,
      "outputs": [
        {
          "output_type": "stream",
          "text": [
            "['dogs-vs-cats', 'MobileNet-samples', 'Sign-Language-Digits-Dataset']\n"
          ],
          "name": "stdout"
        }
      ]
    },
    {
      "cell_type": "code",
      "metadata": {
        "id": "o_YouNBpiXxY"
      },
      "source": [
        "import numpy as np\r\n",
        "import tensorflow as tf\r\n",
        "from tensorflow import keras\r\n",
        "from tensorflow.keras.models import Sequential\r\n",
        "from tensorflow.keras.layers import Activation, Dense, Flatten, BatchNormalization, Conv2D, MaxPool2D\r\n",
        "from tensorflow.keras.optimizers import Adam\r\n",
        "from tensorflow.keras.metrics import categorical_crossentropy\r\n",
        "from tensorflow.keras.preprocessing.image import ImageDataGenerator\r\n",
        "from sklearn.metrics import confusion_matrix\r\n",
        "import itertools\r\n",
        "import os\r\n",
        "import shutil\r\n",
        "import random\r\n",
        "import glob\r\n",
        "import matplotlib.pyplot as plt\r\n",
        "import warnings\r\n",
        "warnings.simplefilter(action='ignore', category=FutureWarning)\r\n",
        "%matplotlib inline"
      ],
      "execution_count": null,
      "outputs": []
    },
    {
      "cell_type": "code",
      "metadata": {
        "colab": {
          "base_uri": "https://localhost:8080/"
        },
        "id": "-kDQqlI7h-ys",
        "outputId": "8fb960c5-5676-4373-f0c4-07806dcbffc5"
      },
      "source": [
        "\r\n",
        "train_path = './Sign-Language-Digits-Dataset/train'\r\n",
        "valid_path = './Sign-Language-Digits-Dataset/valid'\r\n",
        "test_path = './Sign-Language-Digits-Dataset/test'\r\n",
        "train_batches = ImageDataGenerator(preprocessing_function=tf.keras.applications.mobilenet.preprocess_input).flow_from_directory(\r\n",
        "    directory=train_path, target_size=(224,224), batch_size=10)\r\n",
        "valid_batches = ImageDataGenerator(preprocessing_function=tf.keras.applications.mobilenet.preprocess_input).flow_from_directory(\r\n",
        "    directory=valid_path, target_size=(224,224), batch_size=10)\r\n",
        "test_batches = ImageDataGenerator(preprocessing_function=tf.keras.applications.mobilenet.preprocess_input).flow_from_directory(\r\n",
        "    directory=test_path, target_size=(224,224), batch_size=10, shuffle=False)"
      ],
      "execution_count": null,
      "outputs": [
        {
          "output_type": "stream",
          "text": [
            "Found 1712 images belonging to 10 classes.\n",
            "Found 300 images belonging to 10 classes.\n",
            "Found 50 images belonging to 10 classes.\n"
          ],
          "name": "stdout"
        }
      ]
    },
    {
      "cell_type": "markdown",
      "metadata": {
        "id": "MvdaxLXhijrt"
      },
      "source": [
        "**注意:**我们提供给ImageDataGenerator的preprocessing_function参数。 我们将此设置为等于tf.keras.applications.mobilenet.preprocess_input。 这将对从flow_from_directory（）获得的图像（先前解释）进行必要的MobileNet预处理。\r\n",
        "\r\n",
        "对于test_batches，我们还提供了一个附加参数shuffle = False，这将导致不对测试数据集进行混洗，以便稍后可以访问相应的未混洗的测试标签以绘制成混淆矩阵。\r\n",
        "\r\n",
        "现在已经准备好数据并进行处理。 接下来，我们将继续对模型进行微调。"
      ]
    },
    {
      "cell_type": "code",
      "metadata": {
        "id": "-JgytfZHiOUL"
      },
      "source": [
        ""
      ],
      "execution_count": null,
      "outputs": []
    }
  ]
}