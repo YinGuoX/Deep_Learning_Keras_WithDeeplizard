{
  "nbformat": 4,
  "nbformat_minor": 0,
  "metadata": {
    "colab": {
      "name": "4_Create An Artificial Neural Network With TensorFlow's Keras API.ipynb",
      "provenance": [],
      "collapsed_sections": [],
      "authorship_tag": "ABX9TyPU6l5PUsuFIN+kqY8Lb7Hq",
      "include_colab_link": true
    },
    "kernelspec": {
      "name": "python3",
      "display_name": "Python 3"
    },
    "accelerator": "GPU"
  },
  "cells": [
    {
      "cell_type": "markdown",
      "metadata": {
        "id": "view-in-github",
        "colab_type": "text"
      },
      "source": [
        "<a href=\"https://colab.research.google.com/github/YinGuoX/Deep_Learning_Keras_WithDeeplizard/blob/master/4_Create_An_Artificial_Neural_Network_With_TensorFlow's_Keras_API.ipynb\" target=\"_parent\"><img src=\"https://colab.research.google.com/assets/colab-badge.svg\" alt=\"Open In Colab\"/></a>"
      ]
    },
    {
      "cell_type": "markdown",
      "metadata": {
        "id": "nOfOeFWT-qUT"
      },
      "source": [
        "# Create An Artificial Neural Network With TensorFlow's Keras API\r\n",
        "在本节中，我们将演示如何使用TensorFlow中集成的Keras API的Sequential模型创建简单的人工神经网络。\r\n",
        "\r\n",
        "在上一节中，我们从一个想象的临床试验中生成了一些数据，现在我们将建立一个简单的模型，我们可以根据这些数据进行训练。\r\n",
        "\r\n",
        "## 1. 预备工作\r\n",
        "首先，我们需要导入将要使用的所有库。"
      ]
    },
    {
      "cell_type": "code",
      "metadata": {
        "id": "bTXtkgFe-nzb"
      },
      "source": [
        "import tensorflow as tf\r\n",
        "from tensorflow import keras\r\n",
        "from tensorflow.keras.models import Sequential\r\n",
        "from tensorflow.keras.layers import Activation, Dense\r\n",
        "from tensorflow.keras.optimizers import Adam\r\n",
        "from tensorflow.keras.metrics import categorical_crossentropy"
      ],
      "execution_count": null,
      "outputs": []
    },
    {
      "cell_type": "markdown",
      "metadata": {
        "id": "D7EC5gnN_jzl"
      },
      "source": [
        "除了最后两个模块，我们将使用所有这些模块来构建我们的神经网络。注意，我们将在下一节训练模型时使用最后两个模块\r\n",
        "\r\n",
        "不需要GPU即可完成本课程，但是如果您使用的是GPU，则首先需要遵循上一节介绍的GPU设置。 然后我们可以检查以确保TensorFlow能够使用以下代码识别GPU。 在GPU上启用内存增长也很有用。"
      ]
    },
    {
      "cell_type": "code",
      "metadata": {
        "colab": {
          "base_uri": "https://localhost:8080/"
        },
        "id": "DuvZMdGG_eka",
        "outputId": "264a24ad-6689-4226-879c-b247c0d42443"
      },
      "source": [
        "physical_devices = tf.config.experimental.list_physical_devices(\"GPU\")\r\n",
        "print(\"Num GPUs Available: \",len(physical_devices))"
      ],
      "execution_count": null,
      "outputs": [
        {
          "output_type": "stream",
          "text": [
            "Num GPUs Available:  1\n"
          ],
          "name": "stdout"
        }
      ]
    },
    {
      "cell_type": "markdown",
      "metadata": {
        "id": "WDxGudqGACZ8"
      },
      "source": [
        "set_memory_growth（）尝试在给定时间仅分配所需数量的GPU内存，并在需要时继续分配更多内存。 如果未启用此功能，则稍后我们训练模型时，我们可能最终会遇到以下错误。\r\n",
        "\r\n",
        "\r\n",
        "\r\n",
        "```\r\n",
        "Blas GEMM launch failed\r\n",
        "```\r\n",
        "\r\n"
      ]
    },
    {
      "cell_type": "markdown",
      "metadata": {
        "id": "PXlDY2orATl9"
      },
      "source": [
        "## 2. 建立一个序列模型\r\n",
        "现在让我们创建我们的模型。我们首先创建一个名为model的变量，并如下所示定义它。"
      ]
    },
    {
      "cell_type": "code",
      "metadata": {
        "id": "Doa3y7R3ABg3"
      },
      "source": [
        "model = Sequential([\r\n",
        "  Dense(units=16,input_shape=(1,),activation='relu'),\r\n",
        "  Dense(units=32,activation='relu'),\r\n",
        "  Dense(units=2,activation='softmax')\r\n",
        "])"
      ],
      "execution_count": null,
      "outputs": []
    },
    {
      "cell_type": "markdown",
      "metadata": {
        "id": "8xwMHMTXA3lC"
      },
      "source": [
        "model是Sequential对象的实例。 tf.keras.Sequential模型是层的线性堆栈。 它接受一个列表，其中列表中的每个元素都应该是一个图层。\r\n",
        "\r\n",
        "如您所见，我们已经向顺序构造函数传递了一个层列表。现在让我们浏览一下这个列表中的每个层。\r\n",
        "\r\n",
        "### 2.1 第一个隐藏层\r\n",
        "我们的第一层是一个Dense层。这种类型的层是我们标准的全连接或紧密连接的神经网络层。Dense层期望的参数是神经元或单元的数量，我们随意将其设置为16。\r\n",
        "\r\n",
        "此外，模型需要知道输入数据的形状。由于这个原因，我们在模型的第一个隐藏层(且仅此层)指定输入数据的形状。我们使用名为input_shape的参数来指定它。\r\n",
        "\r\n",
        "如前所述，我们将在上一节中生成和处理的数据上训练网络，回想一下，这些数据是一维的。 input_shape参数需要一个与输入数据的形状相匹配的整数元组，因此我们将一维数据的input_shape指定为（1，）。\r\n",
        "\r\n",
        "您可以将这里指定输入形状的方式视为隐式输入层。神经网络的输入层是底层原始数据本身，因此我们不创建显式的输入层。我们现在研究的第一个Dense层实际上是第一个隐藏层\r\n",
        "\r\n",
        "最后，我们为Dense层设置的一个可选参数是激活函数，在这一层之后使用。我们将使用流行的relu。注意，如果您没有显式设置激活函数，那么Keras将使用线性激活函数。\r\n",
        "\r\n",
        "### 2.2 第二个隐藏层\r\n",
        "我们的下一层也将是一个Dense的层，这一层将有32个节点。这个节点有多少神经元也是任意选择的，因为我们的想法是创建一个简单的模型，然后用它来测试和实验。如果我们注意到它是不够的，那么那时，我们可以对问题进行故障诊断，并开始尝试更改参数，如层数、节点数等。这个密集的层也将使用relu作为其激活函数。\r\n",
        "\r\n",
        "### 2.3 输出层\r\n",
        "最后，我们指定输出层。 该层也是Dense​​层，它将具有2个神经元。 这是因为我们有两个可能的输出：患者经历了副作用，或者患者未经历了副作用。\r\n",
        "\r\n",
        "这一次，我们将使用的激活函数是softmax，它将给我们一个可能输出的概率分布。\r\n",
        "\r\n",
        "## 3.查看模型结构\r\n",
        "我们可以在我们的模型上调用summary()来获得它的快速可视化。"
      ]
    },
    {
      "cell_type": "code",
      "metadata": {
        "colab": {
          "base_uri": "https://localhost:8080/"
        },
        "id": "XvZFJwyFA3Gz",
        "outputId": "97630cc5-6b13-4083-ef87-f72fee9f1ea2"
      },
      "source": [
        "model.summary()"
      ],
      "execution_count": null,
      "outputs": [
        {
          "output_type": "stream",
          "text": [
            "Model: \"sequential\"\n",
            "_________________________________________________________________\n",
            "Layer (type)                 Output Shape              Param #   \n",
            "=================================================================\n",
            "dense (Dense)                (None, 16)                32        \n",
            "_________________________________________________________________\n",
            "dense_1 (Dense)              (None, 32)                544       \n",
            "_________________________________________________________________\n",
            "dense_2 (Dense)              (None, 2)                 66        \n",
            "=================================================================\n",
            "Total params: 642\n",
            "Trainable params: 642\n",
            "Non-trainable params: 0\n",
            "_________________________________________________________________\n"
          ],
          "name": "stdout"
        }
      ]
    },
    {
      "cell_type": "markdown",
      "metadata": {
        "id": "5uIBhEqUDTEM"
      },
      "source": [
        "现在，我们使用直观的tf.keras.Sequential模型类型创建了第一个模型。 在下一节中，我们将根据上次创建的数据训练该模型。"
      ]
    },
    {
      "cell_type": "code",
      "metadata": {
        "id": "x_B7bGiUDIpl"
      },
      "source": [
        ""
      ],
      "execution_count": null,
      "outputs": []
    }
  ]
}