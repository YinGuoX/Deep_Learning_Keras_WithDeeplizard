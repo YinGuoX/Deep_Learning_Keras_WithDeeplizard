{
  "nbformat": 4,
  "nbformat_minor": 0,
  "metadata": {
    "colab": {
      "name": "19_Fine-Tuning MobileNet On Custom Data Set With TensorFlow's Keras API.ipynb",
      "provenance": [],
      "collapsed_sections": [],
      "authorship_tag": "ABX9TyOqkzLZnRxKdtw4Sz972OGx",
      "include_colab_link": true
    },
    "kernelspec": {
      "name": "python3",
      "display_name": "Python 3"
    },
    "accelerator": "GPU"
  },
  "cells": [
    {
      "cell_type": "markdown",
      "metadata": {
        "id": "view-in-github",
        "colab_type": "text"
      },
      "source": [
        "<a href=\"https://colab.research.google.com/github/YinGuoX/Deep_Learning_Keras_WithDeeplizard/blob/master/19_Fine_Tuning_MobileNet_On_Custom_Data_Set_With_TensorFlow's_Keras_API.ipynb\" target=\"_parent\"><img src=\"https://colab.research.google.com/assets/colab-badge.svg\" alt=\"Open In Colab\"/></a>"
      ]
    },
    {
      "cell_type": "markdown",
      "metadata": {
        "id": "thQidwBWjHaa"
      },
      "source": [
        "# Fine-Tuning MobileNet On A Custom Data Set With TensorFlow's Keras API\r\n",
        "在这一集，我们将建立在我们所学到的关于MobileNet与我们用于微调的技术相结合的自定义图像数据集微调MobileNet。\r\n",
        "\r\n",
        "当我们先前在较早的情节中演示微调的想法时，我们使用的是猫和狗数据集。 但是，我们注意到，最初由MobileNet和VGG16进行训练的ImageNet数据集已经包含了许多不同类型的猫狗品种。\r\n",
        "\r\n",
        "由于该模型在其原始训练过程中已经学习了猫和狗的特征，因此我们无需为模型进行太多调整即可轻松地对这些图像进行分类。\r\n",
        "\r\n",
        "## 1.构建模型\r\n",
        "我们将下载MobileNet模型，并打印它的摘要。\r\n"
      ]
    },
    {
      "cell_type": "code",
      "metadata": {
        "id": "3jY-JErVi2hr"
      },
      "source": [
        "import numpy as np\r\n",
        "import tensorflow as tf\r\n",
        "from tensorflow import keras\r\n",
        "from tensorflow.keras.models import Sequential\r\n",
        "from tensorflow.keras.layers import Activation, Dense, Flatten, BatchNormalization, Conv2D, MaxPool2D\r\n",
        "from tensorflow.keras.optimizers import Adam\r\n",
        "from tensorflow.keras.metrics import categorical_crossentropy\r\n",
        "from tensorflow.keras.preprocessing.image import ImageDataGenerator\r\n",
        "from sklearn.metrics import confusion_matrix\r\n",
        "import itertools\r\n",
        "import os\r\n",
        "import shutil\r\n",
        "import random\r\n",
        "import glob\r\n",
        "import matplotlib.pyplot as plt\r\n",
        "import warnings\r\n",
        "warnings.simplefilter(action='ignore', category=FutureWarning)\r\n",
        "%matplotlib inline\r\n"
      ],
      "execution_count": null,
      "outputs": []
    },
    {
      "cell_type": "code",
      "metadata": {
        "colab": {
          "base_uri": "https://localhost:8080/"
        },
        "id": "KZyQqdDYjcBu",
        "outputId": "7d52768c-0cb0-4377-e4e8-73472ebe02c9"
      },
      "source": [
        "mobile = tf.keras.applications.mobilenet.MobileNet()\r\n",
        "mobile.summary()"
      ],
      "execution_count": null,
      "outputs": [
        {
          "output_type": "stream",
          "text": [
            "Downloading data from https://storage.googleapis.com/tensorflow/keras-applications/mobilenet/mobilenet_1_0_224_tf.h5\n",
            "17227776/17225924 [==============================] - 0s 0us/step\n",
            "Model: \"mobilenet_1.00_224\"\n",
            "_________________________________________________________________\n",
            "Layer (type)                 Output Shape              Param #   \n",
            "=================================================================\n",
            "input_1 (InputLayer)         [(None, 224, 224, 3)]     0         \n",
            "_________________________________________________________________\n",
            "conv1 (Conv2D)               (None, 112, 112, 32)      864       \n",
            "_________________________________________________________________\n",
            "conv1_bn (BatchNormalization (None, 112, 112, 32)      128       \n",
            "_________________________________________________________________\n",
            "conv1_relu (ReLU)            (None, 112, 112, 32)      0         \n",
            "_________________________________________________________________\n",
            "conv_dw_1 (DepthwiseConv2D)  (None, 112, 112, 32)      288       \n",
            "_________________________________________________________________\n",
            "conv_dw_1_bn (BatchNormaliza (None, 112, 112, 32)      128       \n",
            "_________________________________________________________________\n",
            "conv_dw_1_relu (ReLU)        (None, 112, 112, 32)      0         \n",
            "_________________________________________________________________\n",
            "conv_pw_1 (Conv2D)           (None, 112, 112, 64)      2048      \n",
            "_________________________________________________________________\n",
            "conv_pw_1_bn (BatchNormaliza (None, 112, 112, 64)      256       \n",
            "_________________________________________________________________\n",
            "conv_pw_1_relu (ReLU)        (None, 112, 112, 64)      0         \n",
            "_________________________________________________________________\n",
            "conv_pad_2 (ZeroPadding2D)   (None, 113, 113, 64)      0         \n",
            "_________________________________________________________________\n",
            "conv_dw_2 (DepthwiseConv2D)  (None, 56, 56, 64)        576       \n",
            "_________________________________________________________________\n",
            "conv_dw_2_bn (BatchNormaliza (None, 56, 56, 64)        256       \n",
            "_________________________________________________________________\n",
            "conv_dw_2_relu (ReLU)        (None, 56, 56, 64)        0         \n",
            "_________________________________________________________________\n",
            "conv_pw_2 (Conv2D)           (None, 56, 56, 128)       8192      \n",
            "_________________________________________________________________\n",
            "conv_pw_2_bn (BatchNormaliza (None, 56, 56, 128)       512       \n",
            "_________________________________________________________________\n",
            "conv_pw_2_relu (ReLU)        (None, 56, 56, 128)       0         \n",
            "_________________________________________________________________\n",
            "conv_dw_3 (DepthwiseConv2D)  (None, 56, 56, 128)       1152      \n",
            "_________________________________________________________________\n",
            "conv_dw_3_bn (BatchNormaliza (None, 56, 56, 128)       512       \n",
            "_________________________________________________________________\n",
            "conv_dw_3_relu (ReLU)        (None, 56, 56, 128)       0         \n",
            "_________________________________________________________________\n",
            "conv_pw_3 (Conv2D)           (None, 56, 56, 128)       16384     \n",
            "_________________________________________________________________\n",
            "conv_pw_3_bn (BatchNormaliza (None, 56, 56, 128)       512       \n",
            "_________________________________________________________________\n",
            "conv_pw_3_relu (ReLU)        (None, 56, 56, 128)       0         \n",
            "_________________________________________________________________\n",
            "conv_pad_4 (ZeroPadding2D)   (None, 57, 57, 128)       0         \n",
            "_________________________________________________________________\n",
            "conv_dw_4 (DepthwiseConv2D)  (None, 28, 28, 128)       1152      \n",
            "_________________________________________________________________\n",
            "conv_dw_4_bn (BatchNormaliza (None, 28, 28, 128)       512       \n",
            "_________________________________________________________________\n",
            "conv_dw_4_relu (ReLU)        (None, 28, 28, 128)       0         \n",
            "_________________________________________________________________\n",
            "conv_pw_4 (Conv2D)           (None, 28, 28, 256)       32768     \n",
            "_________________________________________________________________\n",
            "conv_pw_4_bn (BatchNormaliza (None, 28, 28, 256)       1024      \n",
            "_________________________________________________________________\n",
            "conv_pw_4_relu (ReLU)        (None, 28, 28, 256)       0         \n",
            "_________________________________________________________________\n",
            "conv_dw_5 (DepthwiseConv2D)  (None, 28, 28, 256)       2304      \n",
            "_________________________________________________________________\n",
            "conv_dw_5_bn (BatchNormaliza (None, 28, 28, 256)       1024      \n",
            "_________________________________________________________________\n",
            "conv_dw_5_relu (ReLU)        (None, 28, 28, 256)       0         \n",
            "_________________________________________________________________\n",
            "conv_pw_5 (Conv2D)           (None, 28, 28, 256)       65536     \n",
            "_________________________________________________________________\n",
            "conv_pw_5_bn (BatchNormaliza (None, 28, 28, 256)       1024      \n",
            "_________________________________________________________________\n",
            "conv_pw_5_relu (ReLU)        (None, 28, 28, 256)       0         \n",
            "_________________________________________________________________\n",
            "conv_pad_6 (ZeroPadding2D)   (None, 29, 29, 256)       0         \n",
            "_________________________________________________________________\n",
            "conv_dw_6 (DepthwiseConv2D)  (None, 14, 14, 256)       2304      \n",
            "_________________________________________________________________\n",
            "conv_dw_6_bn (BatchNormaliza (None, 14, 14, 256)       1024      \n",
            "_________________________________________________________________\n",
            "conv_dw_6_relu (ReLU)        (None, 14, 14, 256)       0         \n",
            "_________________________________________________________________\n",
            "conv_pw_6 (Conv2D)           (None, 14, 14, 512)       131072    \n",
            "_________________________________________________________________\n",
            "conv_pw_6_bn (BatchNormaliza (None, 14, 14, 512)       2048      \n",
            "_________________________________________________________________\n",
            "conv_pw_6_relu (ReLU)        (None, 14, 14, 512)       0         \n",
            "_________________________________________________________________\n",
            "conv_dw_7 (DepthwiseConv2D)  (None, 14, 14, 512)       4608      \n",
            "_________________________________________________________________\n",
            "conv_dw_7_bn (BatchNormaliza (None, 14, 14, 512)       2048      \n",
            "_________________________________________________________________\n",
            "conv_dw_7_relu (ReLU)        (None, 14, 14, 512)       0         \n",
            "_________________________________________________________________\n",
            "conv_pw_7 (Conv2D)           (None, 14, 14, 512)       262144    \n",
            "_________________________________________________________________\n",
            "conv_pw_7_bn (BatchNormaliza (None, 14, 14, 512)       2048      \n",
            "_________________________________________________________________\n",
            "conv_pw_7_relu (ReLU)        (None, 14, 14, 512)       0         \n",
            "_________________________________________________________________\n",
            "conv_dw_8 (DepthwiseConv2D)  (None, 14, 14, 512)       4608      \n",
            "_________________________________________________________________\n",
            "conv_dw_8_bn (BatchNormaliza (None, 14, 14, 512)       2048      \n",
            "_________________________________________________________________\n",
            "conv_dw_8_relu (ReLU)        (None, 14, 14, 512)       0         \n",
            "_________________________________________________________________\n",
            "conv_pw_8 (Conv2D)           (None, 14, 14, 512)       262144    \n",
            "_________________________________________________________________\n",
            "conv_pw_8_bn (BatchNormaliza (None, 14, 14, 512)       2048      \n",
            "_________________________________________________________________\n",
            "conv_pw_8_relu (ReLU)        (None, 14, 14, 512)       0         \n",
            "_________________________________________________________________\n",
            "conv_dw_9 (DepthwiseConv2D)  (None, 14, 14, 512)       4608      \n",
            "_________________________________________________________________\n",
            "conv_dw_9_bn (BatchNormaliza (None, 14, 14, 512)       2048      \n",
            "_________________________________________________________________\n",
            "conv_dw_9_relu (ReLU)        (None, 14, 14, 512)       0         \n",
            "_________________________________________________________________\n",
            "conv_pw_9 (Conv2D)           (None, 14, 14, 512)       262144    \n",
            "_________________________________________________________________\n",
            "conv_pw_9_bn (BatchNormaliza (None, 14, 14, 512)       2048      \n",
            "_________________________________________________________________\n",
            "conv_pw_9_relu (ReLU)        (None, 14, 14, 512)       0         \n",
            "_________________________________________________________________\n",
            "conv_dw_10 (DepthwiseConv2D) (None, 14, 14, 512)       4608      \n",
            "_________________________________________________________________\n",
            "conv_dw_10_bn (BatchNormaliz (None, 14, 14, 512)       2048      \n",
            "_________________________________________________________________\n",
            "conv_dw_10_relu (ReLU)       (None, 14, 14, 512)       0         \n",
            "_________________________________________________________________\n",
            "conv_pw_10 (Conv2D)          (None, 14, 14, 512)       262144    \n",
            "_________________________________________________________________\n",
            "conv_pw_10_bn (BatchNormaliz (None, 14, 14, 512)       2048      \n",
            "_________________________________________________________________\n",
            "conv_pw_10_relu (ReLU)       (None, 14, 14, 512)       0         \n",
            "_________________________________________________________________\n",
            "conv_dw_11 (DepthwiseConv2D) (None, 14, 14, 512)       4608      \n",
            "_________________________________________________________________\n",
            "conv_dw_11_bn (BatchNormaliz (None, 14, 14, 512)       2048      \n",
            "_________________________________________________________________\n",
            "conv_dw_11_relu (ReLU)       (None, 14, 14, 512)       0         \n",
            "_________________________________________________________________\n",
            "conv_pw_11 (Conv2D)          (None, 14, 14, 512)       262144    \n",
            "_________________________________________________________________\n",
            "conv_pw_11_bn (BatchNormaliz (None, 14, 14, 512)       2048      \n",
            "_________________________________________________________________\n",
            "conv_pw_11_relu (ReLU)       (None, 14, 14, 512)       0         \n",
            "_________________________________________________________________\n",
            "conv_pad_12 (ZeroPadding2D)  (None, 15, 15, 512)       0         \n",
            "_________________________________________________________________\n",
            "conv_dw_12 (DepthwiseConv2D) (None, 7, 7, 512)         4608      \n",
            "_________________________________________________________________\n",
            "conv_dw_12_bn (BatchNormaliz (None, 7, 7, 512)         2048      \n",
            "_________________________________________________________________\n",
            "conv_dw_12_relu (ReLU)       (None, 7, 7, 512)         0         \n",
            "_________________________________________________________________\n",
            "conv_pw_12 (Conv2D)          (None, 7, 7, 1024)        524288    \n",
            "_________________________________________________________________\n",
            "conv_pw_12_bn (BatchNormaliz (None, 7, 7, 1024)        4096      \n",
            "_________________________________________________________________\n",
            "conv_pw_12_relu (ReLU)       (None, 7, 7, 1024)        0         \n",
            "_________________________________________________________________\n",
            "conv_dw_13 (DepthwiseConv2D) (None, 7, 7, 1024)        9216      \n",
            "_________________________________________________________________\n",
            "conv_dw_13_bn (BatchNormaliz (None, 7, 7, 1024)        4096      \n",
            "_________________________________________________________________\n",
            "conv_dw_13_relu (ReLU)       (None, 7, 7, 1024)        0         \n",
            "_________________________________________________________________\n",
            "conv_pw_13 (Conv2D)          (None, 7, 7, 1024)        1048576   \n",
            "_________________________________________________________________\n",
            "conv_pw_13_bn (BatchNormaliz (None, 7, 7, 1024)        4096      \n",
            "_________________________________________________________________\n",
            "conv_pw_13_relu (ReLU)       (None, 7, 7, 1024)        0         \n",
            "_________________________________________________________________\n",
            "global_average_pooling2d (Gl (None, 1024)              0         \n",
            "_________________________________________________________________\n",
            "reshape_1 (Reshape)          (None, 1, 1, 1024)        0         \n",
            "_________________________________________________________________\n",
            "dropout (Dropout)            (None, 1, 1, 1024)        0         \n",
            "_________________________________________________________________\n",
            "conv_preds (Conv2D)          (None, 1, 1, 1000)        1025000   \n",
            "_________________________________________________________________\n",
            "reshape_2 (Reshape)          (None, 1000)              0         \n",
            "_________________________________________________________________\n",
            "predictions (Activation)     (None, 1000)              0         \n",
            "=================================================================\n",
            "Total params: 4,253,864\n",
            "Trainable params: 4,231,976\n",
            "Non-trainable params: 21,888\n",
            "_________________________________________________________________\n"
          ],
          "name": "stdout"
        }
      ]
    },
    {
      "cell_type": "markdown",
      "metadata": {
        "id": "XX0-ds0Gjqv0"
      },
      "source": [
        "接下来，我们提出模型的第一层到倒数第六层，并将其存储在这个变量x中。"
      ]
    },
    {
      "cell_type": "code",
      "metadata": {
        "id": "VA7QzRnnjhsM"
      },
      "source": [
        "x = mobile.layers[-6].output"
      ],
      "execution_count": null,
      "outputs": []
    },
    {
      "cell_type": "markdown",
      "metadata": {
        "id": "QRCE8n3tjzRz"
      },
      "source": [
        "我们将使用它来构建一个新模型。这个新模型将包括原来的MobileNet第一层到最后第六层。我们不包括最初的MobileNet的最后五层。通过查看原始模型的总结，我们可以看到，由于不包括最后五层，我们将包括最后一个global_average_pooling之前的所有内容。\r\n",
        "\r\n",
        "**注意**当你微调一个模型时，我们选择切断的图层数量会因不同的场景而不同，但我通过实验发现，仅删除最后5个图层对于这个特定的任务是很好的。因此，在这种设置下，我们将保留绝大多数原来的MobileNet架构，总共有88层。\r\n",
        "\r\n",
        "现在，我们创建一个输出层，我们将调用输出，这将是一个密集的层，有10个输出节点，用于10个对应的类，我们将使用softmax激活函数。"
      ]
    },
    {
      "cell_type": "code",
      "metadata": {
        "id": "aPN924PVjyrc"
      },
      "source": [
        "output = Dense(units=10,activation='softmax')(x)"
      ],
      "execution_count": null,
      "outputs": []
    },
    {
      "cell_type": "markdown",
      "metadata": {
        "id": "cJLWBFiXkdrp"
      },
      "source": [
        "现在，我们构建新的微调模型，我们将其称为model。"
      ]
    },
    {
      "cell_type": "code",
      "metadata": {
        "id": "l-3RCJpjkq-g"
      },
      "source": [
        "from tensorflow.keras.models import Model"
      ],
      "execution_count": null,
      "outputs": []
    },
    {
      "cell_type": "code",
      "metadata": {
        "colab": {
          "base_uri": "https://localhost:8080/"
        },
        "id": "_by9_E4pkaiN",
        "outputId": "882ec3a9-ef89-45b1-e45c-8658fd9ecb97"
      },
      "source": [
        "model = Model(inputs = mobile.input,outputs = output)\r\n",
        "model.summary()"
      ],
      "execution_count": null,
      "outputs": [
        {
          "output_type": "stream",
          "text": [
            "Model: \"model\"\n",
            "_________________________________________________________________\n",
            "Layer (type)                 Output Shape              Param #   \n",
            "=================================================================\n",
            "input_1 (InputLayer)         [(None, 224, 224, 3)]     0         \n",
            "_________________________________________________________________\n",
            "conv1 (Conv2D)               (None, 112, 112, 32)      864       \n",
            "_________________________________________________________________\n",
            "conv1_bn (BatchNormalization (None, 112, 112, 32)      128       \n",
            "_________________________________________________________________\n",
            "conv1_relu (ReLU)            (None, 112, 112, 32)      0         \n",
            "_________________________________________________________________\n",
            "conv_dw_1 (DepthwiseConv2D)  (None, 112, 112, 32)      288       \n",
            "_________________________________________________________________\n",
            "conv_dw_1_bn (BatchNormaliza (None, 112, 112, 32)      128       \n",
            "_________________________________________________________________\n",
            "conv_dw_1_relu (ReLU)        (None, 112, 112, 32)      0         \n",
            "_________________________________________________________________\n",
            "conv_pw_1 (Conv2D)           (None, 112, 112, 64)      2048      \n",
            "_________________________________________________________________\n",
            "conv_pw_1_bn (BatchNormaliza (None, 112, 112, 64)      256       \n",
            "_________________________________________________________________\n",
            "conv_pw_1_relu (ReLU)        (None, 112, 112, 64)      0         \n",
            "_________________________________________________________________\n",
            "conv_pad_2 (ZeroPadding2D)   (None, 113, 113, 64)      0         \n",
            "_________________________________________________________________\n",
            "conv_dw_2 (DepthwiseConv2D)  (None, 56, 56, 64)        576       \n",
            "_________________________________________________________________\n",
            "conv_dw_2_bn (BatchNormaliza (None, 56, 56, 64)        256       \n",
            "_________________________________________________________________\n",
            "conv_dw_2_relu (ReLU)        (None, 56, 56, 64)        0         \n",
            "_________________________________________________________________\n",
            "conv_pw_2 (Conv2D)           (None, 56, 56, 128)       8192      \n",
            "_________________________________________________________________\n",
            "conv_pw_2_bn (BatchNormaliza (None, 56, 56, 128)       512       \n",
            "_________________________________________________________________\n",
            "conv_pw_2_relu (ReLU)        (None, 56, 56, 128)       0         \n",
            "_________________________________________________________________\n",
            "conv_dw_3 (DepthwiseConv2D)  (None, 56, 56, 128)       1152      \n",
            "_________________________________________________________________\n",
            "conv_dw_3_bn (BatchNormaliza (None, 56, 56, 128)       512       \n",
            "_________________________________________________________________\n",
            "conv_dw_3_relu (ReLU)        (None, 56, 56, 128)       0         \n",
            "_________________________________________________________________\n",
            "conv_pw_3 (Conv2D)           (None, 56, 56, 128)       16384     \n",
            "_________________________________________________________________\n",
            "conv_pw_3_bn (BatchNormaliza (None, 56, 56, 128)       512       \n",
            "_________________________________________________________________\n",
            "conv_pw_3_relu (ReLU)        (None, 56, 56, 128)       0         \n",
            "_________________________________________________________________\n",
            "conv_pad_4 (ZeroPadding2D)   (None, 57, 57, 128)       0         \n",
            "_________________________________________________________________\n",
            "conv_dw_4 (DepthwiseConv2D)  (None, 28, 28, 128)       1152      \n",
            "_________________________________________________________________\n",
            "conv_dw_4_bn (BatchNormaliza (None, 28, 28, 128)       512       \n",
            "_________________________________________________________________\n",
            "conv_dw_4_relu (ReLU)        (None, 28, 28, 128)       0         \n",
            "_________________________________________________________________\n",
            "conv_pw_4 (Conv2D)           (None, 28, 28, 256)       32768     \n",
            "_________________________________________________________________\n",
            "conv_pw_4_bn (BatchNormaliza (None, 28, 28, 256)       1024      \n",
            "_________________________________________________________________\n",
            "conv_pw_4_relu (ReLU)        (None, 28, 28, 256)       0         \n",
            "_________________________________________________________________\n",
            "conv_dw_5 (DepthwiseConv2D)  (None, 28, 28, 256)       2304      \n",
            "_________________________________________________________________\n",
            "conv_dw_5_bn (BatchNormaliza (None, 28, 28, 256)       1024      \n",
            "_________________________________________________________________\n",
            "conv_dw_5_relu (ReLU)        (None, 28, 28, 256)       0         \n",
            "_________________________________________________________________\n",
            "conv_pw_5 (Conv2D)           (None, 28, 28, 256)       65536     \n",
            "_________________________________________________________________\n",
            "conv_pw_5_bn (BatchNormaliza (None, 28, 28, 256)       1024      \n",
            "_________________________________________________________________\n",
            "conv_pw_5_relu (ReLU)        (None, 28, 28, 256)       0         \n",
            "_________________________________________________________________\n",
            "conv_pad_6 (ZeroPadding2D)   (None, 29, 29, 256)       0         \n",
            "_________________________________________________________________\n",
            "conv_dw_6 (DepthwiseConv2D)  (None, 14, 14, 256)       2304      \n",
            "_________________________________________________________________\n",
            "conv_dw_6_bn (BatchNormaliza (None, 14, 14, 256)       1024      \n",
            "_________________________________________________________________\n",
            "conv_dw_6_relu (ReLU)        (None, 14, 14, 256)       0         \n",
            "_________________________________________________________________\n",
            "conv_pw_6 (Conv2D)           (None, 14, 14, 512)       131072    \n",
            "_________________________________________________________________\n",
            "conv_pw_6_bn (BatchNormaliza (None, 14, 14, 512)       2048      \n",
            "_________________________________________________________________\n",
            "conv_pw_6_relu (ReLU)        (None, 14, 14, 512)       0         \n",
            "_________________________________________________________________\n",
            "conv_dw_7 (DepthwiseConv2D)  (None, 14, 14, 512)       4608      \n",
            "_________________________________________________________________\n",
            "conv_dw_7_bn (BatchNormaliza (None, 14, 14, 512)       2048      \n",
            "_________________________________________________________________\n",
            "conv_dw_7_relu (ReLU)        (None, 14, 14, 512)       0         \n",
            "_________________________________________________________________\n",
            "conv_pw_7 (Conv2D)           (None, 14, 14, 512)       262144    \n",
            "_________________________________________________________________\n",
            "conv_pw_7_bn (BatchNormaliza (None, 14, 14, 512)       2048      \n",
            "_________________________________________________________________\n",
            "conv_pw_7_relu (ReLU)        (None, 14, 14, 512)       0         \n",
            "_________________________________________________________________\n",
            "conv_dw_8 (DepthwiseConv2D)  (None, 14, 14, 512)       4608      \n",
            "_________________________________________________________________\n",
            "conv_dw_8_bn (BatchNormaliza (None, 14, 14, 512)       2048      \n",
            "_________________________________________________________________\n",
            "conv_dw_8_relu (ReLU)        (None, 14, 14, 512)       0         \n",
            "_________________________________________________________________\n",
            "conv_pw_8 (Conv2D)           (None, 14, 14, 512)       262144    \n",
            "_________________________________________________________________\n",
            "conv_pw_8_bn (BatchNormaliza (None, 14, 14, 512)       2048      \n",
            "_________________________________________________________________\n",
            "conv_pw_8_relu (ReLU)        (None, 14, 14, 512)       0         \n",
            "_________________________________________________________________\n",
            "conv_dw_9 (DepthwiseConv2D)  (None, 14, 14, 512)       4608      \n",
            "_________________________________________________________________\n",
            "conv_dw_9_bn (BatchNormaliza (None, 14, 14, 512)       2048      \n",
            "_________________________________________________________________\n",
            "conv_dw_9_relu (ReLU)        (None, 14, 14, 512)       0         \n",
            "_________________________________________________________________\n",
            "conv_pw_9 (Conv2D)           (None, 14, 14, 512)       262144    \n",
            "_________________________________________________________________\n",
            "conv_pw_9_bn (BatchNormaliza (None, 14, 14, 512)       2048      \n",
            "_________________________________________________________________\n",
            "conv_pw_9_relu (ReLU)        (None, 14, 14, 512)       0         \n",
            "_________________________________________________________________\n",
            "conv_dw_10 (DepthwiseConv2D) (None, 14, 14, 512)       4608      \n",
            "_________________________________________________________________\n",
            "conv_dw_10_bn (BatchNormaliz (None, 14, 14, 512)       2048      \n",
            "_________________________________________________________________\n",
            "conv_dw_10_relu (ReLU)       (None, 14, 14, 512)       0         \n",
            "_________________________________________________________________\n",
            "conv_pw_10 (Conv2D)          (None, 14, 14, 512)       262144    \n",
            "_________________________________________________________________\n",
            "conv_pw_10_bn (BatchNormaliz (None, 14, 14, 512)       2048      \n",
            "_________________________________________________________________\n",
            "conv_pw_10_relu (ReLU)       (None, 14, 14, 512)       0         \n",
            "_________________________________________________________________\n",
            "conv_dw_11 (DepthwiseConv2D) (None, 14, 14, 512)       4608      \n",
            "_________________________________________________________________\n",
            "conv_dw_11_bn (BatchNormaliz (None, 14, 14, 512)       2048      \n",
            "_________________________________________________________________\n",
            "conv_dw_11_relu (ReLU)       (None, 14, 14, 512)       0         \n",
            "_________________________________________________________________\n",
            "conv_pw_11 (Conv2D)          (None, 14, 14, 512)       262144    \n",
            "_________________________________________________________________\n",
            "conv_pw_11_bn (BatchNormaliz (None, 14, 14, 512)       2048      \n",
            "_________________________________________________________________\n",
            "conv_pw_11_relu (ReLU)       (None, 14, 14, 512)       0         \n",
            "_________________________________________________________________\n",
            "conv_pad_12 (ZeroPadding2D)  (None, 15, 15, 512)       0         \n",
            "_________________________________________________________________\n",
            "conv_dw_12 (DepthwiseConv2D) (None, 7, 7, 512)         4608      \n",
            "_________________________________________________________________\n",
            "conv_dw_12_bn (BatchNormaliz (None, 7, 7, 512)         2048      \n",
            "_________________________________________________________________\n",
            "conv_dw_12_relu (ReLU)       (None, 7, 7, 512)         0         \n",
            "_________________________________________________________________\n",
            "conv_pw_12 (Conv2D)          (None, 7, 7, 1024)        524288    \n",
            "_________________________________________________________________\n",
            "conv_pw_12_bn (BatchNormaliz (None, 7, 7, 1024)        4096      \n",
            "_________________________________________________________________\n",
            "conv_pw_12_relu (ReLU)       (None, 7, 7, 1024)        0         \n",
            "_________________________________________________________________\n",
            "conv_dw_13 (DepthwiseConv2D) (None, 7, 7, 1024)        9216      \n",
            "_________________________________________________________________\n",
            "conv_dw_13_bn (BatchNormaliz (None, 7, 7, 1024)        4096      \n",
            "_________________________________________________________________\n",
            "conv_dw_13_relu (ReLU)       (None, 7, 7, 1024)        0         \n",
            "_________________________________________________________________\n",
            "conv_pw_13 (Conv2D)          (None, 7, 7, 1024)        1048576   \n",
            "_________________________________________________________________\n",
            "conv_pw_13_bn (BatchNormaliz (None, 7, 7, 1024)        4096      \n",
            "_________________________________________________________________\n",
            "conv_pw_13_relu (ReLU)       (None, 7, 7, 1024)        0         \n",
            "_________________________________________________________________\n",
            "global_average_pooling2d (Gl (None, 1024)              0         \n",
            "_________________________________________________________________\n",
            "dense (Dense)                (None, 10)                10250     \n",
            "=================================================================\n",
            "Total params: 3,239,114\n",
            "Trainable params: 3,217,226\n",
            "Non-trainable params: 21,888\n",
            "_________________________________________________________________\n"
          ],
          "name": "stdout"
        }
      ]
    },
    {
      "cell_type": "markdown",
      "metadata": {
        "id": "Cq69w4RslIg_"
      },
      "source": [
        "**注意:**您可以通过用于创建模型的Model构造器看到，这是一个使用Keras Functional API创建的模型，而不是我们在以前的章节中使用的Sequential API。这就是为什么我们用来创建模型的格式可能与你习惯的格式有点不同。\r\n",
        "\r\n",
        "为了构建新的模型，我们创建了model类的一个实例，并将模型的输入指定为等于原始MobileNet的输入，然后我们将模型的输出定义为等于我们在上面直接创建的输出变量。\r\n",
        "\r\n",
        "这创建了一个新的模型，它与原来的MobileNet完全相同，直到原来的模型的倒数第六层到最后一层。我们没有包括最后5个原始的MobileNet层，但是我们有一个新的层，即我们用10个输出节点创建的输出层。\r\n",
        "\r\n",
        "现在，当我们在新数据集上进行训练时，我们需要选择我们真正想要训练的层数。\r\n",
        "\r\n",
        "我们仍然想保留很多原来的MobileNet已经从ImageNet中学到的东西，通过冻结许多层的权值，特别是早期的，但是我们确实需要训练一些层，因为模型仍然需要学习关于这个新数据集的特征。\r\n",
        "\r\n",
        "我做了一些实验，发现训练最后23层将给我们一个相当不错的执行模型。\r\n"
      ]
    },
    {
      "cell_type": "code",
      "metadata": {
        "colab": {
          "base_uri": "https://localhost:8080/"
        },
        "id": "TWTul_lBlwiz",
        "outputId": "db1fe2ae-cfa8-449d-c597-4bcd7b37de2a"
      },
      "source": [
        "lay = model.layers\r\n",
        "print(type(lay))\r\n",
        "print(lay)\r\n",
        "print(len(lay))"
      ],
      "execution_count": null,
      "outputs": [
        {
          "output_type": "stream",
          "text": [
            "<class 'list'>\n",
            "[<tensorflow.python.keras.engine.input_layer.InputLayer object at 0x7fe034d8d160>, <tensorflow.python.keras.layers.convolutional.Conv2D object at 0x7fdff2eb5cf8>, <tensorflow.python.keras.layers.normalization_v2.BatchNormalization object at 0x7fdff265d710>, <tensorflow.python.keras.layers.advanced_activations.ReLU object at 0x7fdff2624860>, <tensorflow.python.keras.layers.convolutional.DepthwiseConv2D object at 0x7fdfe0370eb8>, <tensorflow.python.keras.layers.normalization_v2.BatchNormalization object at 0x7fdfe037c9e8>, <tensorflow.python.keras.layers.advanced_activations.ReLU object at 0x7fdfe03859b0>, <tensorflow.python.keras.layers.convolutional.Conv2D object at 0x7fdfe037c2e8>, <tensorflow.python.keras.layers.normalization_v2.BatchNormalization object at 0x7fdfe038fb70>, <tensorflow.python.keras.layers.advanced_activations.ReLU object at 0x7fdfe0385a20>, <tensorflow.python.keras.layers.convolutional.ZeroPadding2D object at 0x7fdfe039ce80>, <tensorflow.python.keras.layers.convolutional.DepthwiseConv2D object at 0x7fdfe03a3668>, <tensorflow.python.keras.layers.normalization_v2.BatchNormalization object at 0x7fdfe039c5c0>, <tensorflow.python.keras.layers.advanced_activations.ReLU object at 0x7fdfe03a3160>, <tensorflow.python.keras.layers.convolutional.Conv2D object at 0x7fdfe0332278>, <tensorflow.python.keras.layers.normalization_v2.BatchNormalization object at 0x7fdfe032dc18>, <tensorflow.python.keras.layers.advanced_activations.ReLU object at 0x7fdfe03a3be0>, <tensorflow.python.keras.layers.convolutional.DepthwiseConv2D object at 0x7fdfe03397b8>, <tensorflow.python.keras.layers.normalization_v2.BatchNormalization object at 0x7fdfe0339710>, <tensorflow.python.keras.layers.advanced_activations.ReLU object at 0x7fdfe03a3c18>, <tensorflow.python.keras.layers.convolutional.Conv2D object at 0x7fdfe0385128>, <tensorflow.python.keras.layers.normalization_v2.BatchNormalization object at 0x7fdfe03705c0>, <tensorflow.python.keras.layers.advanced_activations.ReLU object at 0x7fdfe0370400>, <tensorflow.python.keras.layers.convolutional.ZeroPadding2D object at 0x7fdff2624908>, <tensorflow.python.keras.layers.convolutional.DepthwiseConv2D object at 0x7fdff265d400>, <tensorflow.python.keras.layers.normalization_v2.BatchNormalization object at 0x7fdfe034a630>, <tensorflow.python.keras.layers.advanced_activations.ReLU object at 0x7fdfe034add8>, <tensorflow.python.keras.layers.convolutional.Conv2D object at 0x7fdfe034fac8>, <tensorflow.python.keras.layers.normalization_v2.BatchNormalization object at 0x7fdfe0356748>, <tensorflow.python.keras.layers.advanced_activations.ReLU object at 0x7fdfe0356978>, <tensorflow.python.keras.layers.convolutional.DepthwiseConv2D object at 0x7fdfe034a748>, <tensorflow.python.keras.layers.normalization_v2.BatchNormalization object at 0x7fdfe0362f28>, <tensorflow.python.keras.layers.advanced_activations.ReLU object at 0x7fdfe02e7f98>, <tensorflow.python.keras.layers.convolutional.Conv2D object at 0x7fdfe02ed978>, <tensorflow.python.keras.layers.normalization_v2.BatchNormalization object at 0x7fdfe02f45f8>, <tensorflow.python.keras.layers.advanced_activations.ReLU object at 0x7fdfe02fb5c0>, <tensorflow.python.keras.layers.convolutional.ZeroPadding2D object at 0x7fdfe02e7748>, <tensorflow.python.keras.layers.convolutional.DepthwiseConv2D object at 0x7fdfe0305c50>, <tensorflow.python.keras.layers.normalization_v2.BatchNormalization object at 0x7fdfe030b7b8>, <tensorflow.python.keras.layers.advanced_activations.ReLU object at 0x7fdfe030b3c8>, <tensorflow.python.keras.layers.convolutional.Conv2D object at 0x7fdfe030b8d0>, <tensorflow.python.keras.layers.normalization_v2.BatchNormalization object at 0x7fdfe0318898>, <tensorflow.python.keras.layers.advanced_activations.ReLU object at 0x7fdfe031d860>, <tensorflow.python.keras.layers.convolutional.DepthwiseConv2D object at 0x7fdfe02a8390>, <tensorflow.python.keras.layers.normalization_v2.BatchNormalization object at 0x7fdfe02ac0b8>, <tensorflow.python.keras.layers.advanced_activations.ReLU object at 0x7fdfe02acc88>, <tensorflow.python.keras.layers.convolutional.Conv2D object at 0x7fdfe02b3208>, <tensorflow.python.keras.layers.normalization_v2.BatchNormalization object at 0x7fdfe02b9780>, <tensorflow.python.keras.layers.advanced_activations.ReLU object at 0x7fdfe02c2be0>, <tensorflow.python.keras.layers.convolutional.DepthwiseConv2D object at 0x7fdfe02ac1d0>, <tensorflow.python.keras.layers.normalization_v2.BatchNormalization object at 0x7fdfe02caf60>, <tensorflow.python.keras.layers.advanced_activations.ReLU object at 0x7fdfe02cffd0>, <tensorflow.python.keras.layers.convolutional.Conv2D object at 0x7fdfe02d70b8>, <tensorflow.python.keras.layers.normalization_v2.BatchNormalization object at 0x7fdfe02df160>, <tensorflow.python.keras.layers.advanced_activations.ReLU object at 0x7fdfe02e4a58>, <tensorflow.python.keras.layers.convolutional.DepthwiseConv2D object at 0x7fdfe02ca8d0>, <tensorflow.python.keras.layers.normalization_v2.BatchNormalization object at 0x7fdfe026ddd8>, <tensorflow.python.keras.layers.advanced_activations.ReLU object at 0x7fdfe0270e80>, <tensorflow.python.keras.layers.convolutional.Conv2D object at 0x7fdfe026def0>, <tensorflow.python.keras.layers.normalization_v2.BatchNormalization object at 0x7fdfe02df7b8>, <tensorflow.python.keras.layers.advanced_activations.ReLU object at 0x7fdfe02cf4e0>, <tensorflow.python.keras.layers.convolutional.DepthwiseConv2D object at 0x7fdfe02c2e10>, <tensorflow.python.keras.layers.normalization_v2.BatchNormalization object at 0x7fdfe02d75f8>, <tensorflow.python.keras.layers.advanced_activations.ReLU object at 0x7fdfe02b3978>, <tensorflow.python.keras.layers.convolutional.Conv2D object at 0x7fdfe02d7828>, <tensorflow.python.keras.layers.normalization_v2.BatchNormalization object at 0x7fdfe031de48>, <tensorflow.python.keras.layers.advanced_activations.ReLU object at 0x7fdfe02ac390>, <tensorflow.python.keras.layers.convolutional.DepthwiseConv2D object at 0x7fdfe03053c8>, <tensorflow.python.keras.layers.normalization_v2.BatchNormalization object at 0x7fdfe02f4208>, <tensorflow.python.keras.layers.advanced_activations.ReLU object at 0x7fdfe02ac278>, <tensorflow.python.keras.layers.convolutional.Conv2D object at 0x7fdfe02f4d68>, <tensorflow.python.keras.layers.normalization_v2.BatchNormalization object at 0x7fdfe035c278>, <tensorflow.python.keras.layers.advanced_activations.ReLU object at 0x7fdfe033d390>, <tensorflow.python.keras.layers.convolutional.ZeroPadding2D object at 0x7fdfe03105c0>, <tensorflow.python.keras.layers.convolutional.DepthwiseConv2D object at 0x7fdfe034f080>, <tensorflow.python.keras.layers.normalization_v2.BatchNormalization object at 0x7fdfe037c940>, <tensorflow.python.keras.layers.advanced_activations.ReLU object at 0x7fdff2624e10>, <tensorflow.python.keras.layers.convolutional.Conv2D object at 0x7fdfe028d6a0>, <tensorflow.python.keras.layers.normalization_v2.BatchNormalization object at 0x7fdfe0290320>, <tensorflow.python.keras.layers.advanced_activations.ReLU object at 0x7fdfe02903c8>, <tensorflow.python.keras.layers.convolutional.DepthwiseConv2D object at 0x7fdfe029bdd8>, <tensorflow.python.keras.layers.normalization_v2.BatchNormalization object at 0x7fdfe02a2c18>, <tensorflow.python.keras.layers.advanced_activations.ReLU object at 0x7fdfe02a22b0>, <tensorflow.python.keras.layers.convolutional.Conv2D object at 0x7fdfe022e550>, <tensorflow.python.keras.layers.normalization_v2.BatchNormalization object at 0x7fdfe02341d0>, <tensorflow.python.keras.layers.advanced_activations.ReLU object at 0x7fdfe0234fd0>, <tensorflow.python.keras.layers.pooling.GlobalAveragePooling2D object at 0x7fdfe023cba8>, <tensorflow.python.keras.layers.core.Dense object at 0x7fdfe02f4780>]\n",
            "88\n"
          ],
          "name": "stdout"
        }
      ]
    },
    {
      "cell_type": "code",
      "metadata": {
        "id": "1fKOYJrCklJK"
      },
      "source": [
        "for layer in model.layers[:-23]:\r\n",
        "    layer.trainable = False"
      ],
      "execution_count": null,
      "outputs": []
    },
    {
      "cell_type": "markdown",
      "metadata": {
        "id": "MxPzFgDPl9X0"
      },
      "source": [
        "**注意**只训练最后23层不一定是需要训练的最佳层数。你可以自己尝试一下，如果你可以通过训练更多或更少的层次来获得更好的结果，请在评论中告诉我。\r\n",
        "\r\n",
        "因此，当我们在新的数据集上拟合模型时，将训练到最后的第23层和之后的所有层。上面的所有层都不会被训练，所以它们原来的ImageNet权重将保持不变。\r\n",
        "\r\n",
        "现在看看模型总结，我们可以看到新的模型架构，以及可培训参数的数量是如何从原始模型更改的。"
      ]
    },
    {
      "cell_type": "code",
      "metadata": {
        "colab": {
          "base_uri": "https://localhost:8080/"
        },
        "id": "Y1MbcL5Bl6JM",
        "outputId": "b5b8cf34-6ca9-4a47-94c7-6affea0f0f2e"
      },
      "source": [
        "model.summary()"
      ],
      "execution_count": null,
      "outputs": [
        {
          "output_type": "stream",
          "text": [
            "Model: \"model\"\n",
            "_________________________________________________________________\n",
            "Layer (type)                 Output Shape              Param #   \n",
            "=================================================================\n",
            "input_1 (InputLayer)         [(None, 224, 224, 3)]     0         \n",
            "_________________________________________________________________\n",
            "conv1 (Conv2D)               (None, 112, 112, 32)      864       \n",
            "_________________________________________________________________\n",
            "conv1_bn (BatchNormalization (None, 112, 112, 32)      128       \n",
            "_________________________________________________________________\n",
            "conv1_relu (ReLU)            (None, 112, 112, 32)      0         \n",
            "_________________________________________________________________\n",
            "conv_dw_1 (DepthwiseConv2D)  (None, 112, 112, 32)      288       \n",
            "_________________________________________________________________\n",
            "conv_dw_1_bn (BatchNormaliza (None, 112, 112, 32)      128       \n",
            "_________________________________________________________________\n",
            "conv_dw_1_relu (ReLU)        (None, 112, 112, 32)      0         \n",
            "_________________________________________________________________\n",
            "conv_pw_1 (Conv2D)           (None, 112, 112, 64)      2048      \n",
            "_________________________________________________________________\n",
            "conv_pw_1_bn (BatchNormaliza (None, 112, 112, 64)      256       \n",
            "_________________________________________________________________\n",
            "conv_pw_1_relu (ReLU)        (None, 112, 112, 64)      0         \n",
            "_________________________________________________________________\n",
            "conv_pad_2 (ZeroPadding2D)   (None, 113, 113, 64)      0         \n",
            "_________________________________________________________________\n",
            "conv_dw_2 (DepthwiseConv2D)  (None, 56, 56, 64)        576       \n",
            "_________________________________________________________________\n",
            "conv_dw_2_bn (BatchNormaliza (None, 56, 56, 64)        256       \n",
            "_________________________________________________________________\n",
            "conv_dw_2_relu (ReLU)        (None, 56, 56, 64)        0         \n",
            "_________________________________________________________________\n",
            "conv_pw_2 (Conv2D)           (None, 56, 56, 128)       8192      \n",
            "_________________________________________________________________\n",
            "conv_pw_2_bn (BatchNormaliza (None, 56, 56, 128)       512       \n",
            "_________________________________________________________________\n",
            "conv_pw_2_relu (ReLU)        (None, 56, 56, 128)       0         \n",
            "_________________________________________________________________\n",
            "conv_dw_3 (DepthwiseConv2D)  (None, 56, 56, 128)       1152      \n",
            "_________________________________________________________________\n",
            "conv_dw_3_bn (BatchNormaliza (None, 56, 56, 128)       512       \n",
            "_________________________________________________________________\n",
            "conv_dw_3_relu (ReLU)        (None, 56, 56, 128)       0         \n",
            "_________________________________________________________________\n",
            "conv_pw_3 (Conv2D)           (None, 56, 56, 128)       16384     \n",
            "_________________________________________________________________\n",
            "conv_pw_3_bn (BatchNormaliza (None, 56, 56, 128)       512       \n",
            "_________________________________________________________________\n",
            "conv_pw_3_relu (ReLU)        (None, 56, 56, 128)       0         \n",
            "_________________________________________________________________\n",
            "conv_pad_4 (ZeroPadding2D)   (None, 57, 57, 128)       0         \n",
            "_________________________________________________________________\n",
            "conv_dw_4 (DepthwiseConv2D)  (None, 28, 28, 128)       1152      \n",
            "_________________________________________________________________\n",
            "conv_dw_4_bn (BatchNormaliza (None, 28, 28, 128)       512       \n",
            "_________________________________________________________________\n",
            "conv_dw_4_relu (ReLU)        (None, 28, 28, 128)       0         \n",
            "_________________________________________________________________\n",
            "conv_pw_4 (Conv2D)           (None, 28, 28, 256)       32768     \n",
            "_________________________________________________________________\n",
            "conv_pw_4_bn (BatchNormaliza (None, 28, 28, 256)       1024      \n",
            "_________________________________________________________________\n",
            "conv_pw_4_relu (ReLU)        (None, 28, 28, 256)       0         \n",
            "_________________________________________________________________\n",
            "conv_dw_5 (DepthwiseConv2D)  (None, 28, 28, 256)       2304      \n",
            "_________________________________________________________________\n",
            "conv_dw_5_bn (BatchNormaliza (None, 28, 28, 256)       1024      \n",
            "_________________________________________________________________\n",
            "conv_dw_5_relu (ReLU)        (None, 28, 28, 256)       0         \n",
            "_________________________________________________________________\n",
            "conv_pw_5 (Conv2D)           (None, 28, 28, 256)       65536     \n",
            "_________________________________________________________________\n",
            "conv_pw_5_bn (BatchNormaliza (None, 28, 28, 256)       1024      \n",
            "_________________________________________________________________\n",
            "conv_pw_5_relu (ReLU)        (None, 28, 28, 256)       0         \n",
            "_________________________________________________________________\n",
            "conv_pad_6 (ZeroPadding2D)   (None, 29, 29, 256)       0         \n",
            "_________________________________________________________________\n",
            "conv_dw_6 (DepthwiseConv2D)  (None, 14, 14, 256)       2304      \n",
            "_________________________________________________________________\n",
            "conv_dw_6_bn (BatchNormaliza (None, 14, 14, 256)       1024      \n",
            "_________________________________________________________________\n",
            "conv_dw_6_relu (ReLU)        (None, 14, 14, 256)       0         \n",
            "_________________________________________________________________\n",
            "conv_pw_6 (Conv2D)           (None, 14, 14, 512)       131072    \n",
            "_________________________________________________________________\n",
            "conv_pw_6_bn (BatchNormaliza (None, 14, 14, 512)       2048      \n",
            "_________________________________________________________________\n",
            "conv_pw_6_relu (ReLU)        (None, 14, 14, 512)       0         \n",
            "_________________________________________________________________\n",
            "conv_dw_7 (DepthwiseConv2D)  (None, 14, 14, 512)       4608      \n",
            "_________________________________________________________________\n",
            "conv_dw_7_bn (BatchNormaliza (None, 14, 14, 512)       2048      \n",
            "_________________________________________________________________\n",
            "conv_dw_7_relu (ReLU)        (None, 14, 14, 512)       0         \n",
            "_________________________________________________________________\n",
            "conv_pw_7 (Conv2D)           (None, 14, 14, 512)       262144    \n",
            "_________________________________________________________________\n",
            "conv_pw_7_bn (BatchNormaliza (None, 14, 14, 512)       2048      \n",
            "_________________________________________________________________\n",
            "conv_pw_7_relu (ReLU)        (None, 14, 14, 512)       0         \n",
            "_________________________________________________________________\n",
            "conv_dw_8 (DepthwiseConv2D)  (None, 14, 14, 512)       4608      \n",
            "_________________________________________________________________\n",
            "conv_dw_8_bn (BatchNormaliza (None, 14, 14, 512)       2048      \n",
            "_________________________________________________________________\n",
            "conv_dw_8_relu (ReLU)        (None, 14, 14, 512)       0         \n",
            "_________________________________________________________________\n",
            "conv_pw_8 (Conv2D)           (None, 14, 14, 512)       262144    \n",
            "_________________________________________________________________\n",
            "conv_pw_8_bn (BatchNormaliza (None, 14, 14, 512)       2048      \n",
            "_________________________________________________________________\n",
            "conv_pw_8_relu (ReLU)        (None, 14, 14, 512)       0         \n",
            "_________________________________________________________________\n",
            "conv_dw_9 (DepthwiseConv2D)  (None, 14, 14, 512)       4608      \n",
            "_________________________________________________________________\n",
            "conv_dw_9_bn (BatchNormaliza (None, 14, 14, 512)       2048      \n",
            "_________________________________________________________________\n",
            "conv_dw_9_relu (ReLU)        (None, 14, 14, 512)       0         \n",
            "_________________________________________________________________\n",
            "conv_pw_9 (Conv2D)           (None, 14, 14, 512)       262144    \n",
            "_________________________________________________________________\n",
            "conv_pw_9_bn (BatchNormaliza (None, 14, 14, 512)       2048      \n",
            "_________________________________________________________________\n",
            "conv_pw_9_relu (ReLU)        (None, 14, 14, 512)       0         \n",
            "_________________________________________________________________\n",
            "conv_dw_10 (DepthwiseConv2D) (None, 14, 14, 512)       4608      \n",
            "_________________________________________________________________\n",
            "conv_dw_10_bn (BatchNormaliz (None, 14, 14, 512)       2048      \n",
            "_________________________________________________________________\n",
            "conv_dw_10_relu (ReLU)       (None, 14, 14, 512)       0         \n",
            "_________________________________________________________________\n",
            "conv_pw_10 (Conv2D)          (None, 14, 14, 512)       262144    \n",
            "_________________________________________________________________\n",
            "conv_pw_10_bn (BatchNormaliz (None, 14, 14, 512)       2048      \n",
            "_________________________________________________________________\n",
            "conv_pw_10_relu (ReLU)       (None, 14, 14, 512)       0         \n",
            "_________________________________________________________________\n",
            "conv_dw_11 (DepthwiseConv2D) (None, 14, 14, 512)       4608      \n",
            "_________________________________________________________________\n",
            "conv_dw_11_bn (BatchNormaliz (None, 14, 14, 512)       2048      \n",
            "_________________________________________________________________\n",
            "conv_dw_11_relu (ReLU)       (None, 14, 14, 512)       0         \n",
            "_________________________________________________________________\n",
            "conv_pw_11 (Conv2D)          (None, 14, 14, 512)       262144    \n",
            "_________________________________________________________________\n",
            "conv_pw_11_bn (BatchNormaliz (None, 14, 14, 512)       2048      \n",
            "_________________________________________________________________\n",
            "conv_pw_11_relu (ReLU)       (None, 14, 14, 512)       0         \n",
            "_________________________________________________________________\n",
            "conv_pad_12 (ZeroPadding2D)  (None, 15, 15, 512)       0         \n",
            "_________________________________________________________________\n",
            "conv_dw_12 (DepthwiseConv2D) (None, 7, 7, 512)         4608      \n",
            "_________________________________________________________________\n",
            "conv_dw_12_bn (BatchNormaliz (None, 7, 7, 512)         2048      \n",
            "_________________________________________________________________\n",
            "conv_dw_12_relu (ReLU)       (None, 7, 7, 512)         0         \n",
            "_________________________________________________________________\n",
            "conv_pw_12 (Conv2D)          (None, 7, 7, 1024)        524288    \n",
            "_________________________________________________________________\n",
            "conv_pw_12_bn (BatchNormaliz (None, 7, 7, 1024)        4096      \n",
            "_________________________________________________________________\n",
            "conv_pw_12_relu (ReLU)       (None, 7, 7, 1024)        0         \n",
            "_________________________________________________________________\n",
            "conv_dw_13 (DepthwiseConv2D) (None, 7, 7, 1024)        9216      \n",
            "_________________________________________________________________\n",
            "conv_dw_13_bn (BatchNormaliz (None, 7, 7, 1024)        4096      \n",
            "_________________________________________________________________\n",
            "conv_dw_13_relu (ReLU)       (None, 7, 7, 1024)        0         \n",
            "_________________________________________________________________\n",
            "conv_pw_13 (Conv2D)          (None, 7, 7, 1024)        1048576   \n",
            "_________________________________________________________________\n",
            "conv_pw_13_bn (BatchNormaliz (None, 7, 7, 1024)        4096      \n",
            "_________________________________________________________________\n",
            "conv_pw_13_relu (ReLU)       (None, 7, 7, 1024)        0         \n",
            "_________________________________________________________________\n",
            "global_average_pooling2d (Gl (None, 1024)              0         \n",
            "_________________________________________________________________\n",
            "dense (Dense)                (None, 10)                10250     \n",
            "=================================================================\n",
            "Total params: 3,239,114\n",
            "Trainable params: 1,873,930\n",
            "Non-trainable params: 1,365,184\n",
            "_________________________________________________________________\n"
          ],
          "name": "stdout"
        }
      ]
    },
    {
      "cell_type": "markdown",
      "metadata": {
        "id": "MrA4wok-mWip"
      },
      "source": [
        "## 2. 训练模型\r\n",
        "现在，我们编译这个模型的方法和我们在本课程中编译其他模型的方法一样"
      ]
    },
    {
      "cell_type": "code",
      "metadata": {
        "id": "9S9UDRwOmQdD"
      },
      "source": [
        "model.compile(optimizer=Adam(lr=0.0001), loss='categorical_crossentropy', metrics=['accuracy'])"
      ],
      "execution_count": null,
      "outputs": []
    },
    {
      "cell_type": "markdown",
      "metadata": {
        "id": "bfYsmAXzmfDC"
      },
      "source": [
        "类似地，我们调用fit()来训练模型，就像我们对其他模型所做的那样"
      ]
    },
    {
      "cell_type": "code",
      "metadata": {
        "colab": {
          "base_uri": "https://localhost:8080/"
        },
        "id": "ER8JanAPmbYz",
        "outputId": "57b52e04-2b55-471a-f20a-54d7a8c0fe7c"
      },
      "source": [
        "# 在colab上使用的云端数据\r\n",
        "from google.colab import drive\r\n",
        "drive.mount('/content/drive')\r\n"
      ],
      "execution_count": null,
      "outputs": [
        {
          "output_type": "stream",
          "text": [
            "Mounted at /content/drive\n"
          ],
          "name": "stdout"
        }
      ]
    },
    {
      "cell_type": "code",
      "metadata": {
        "colab": {
          "base_uri": "https://localhost:8080/",
          "height": 52
        },
        "id": "Bd6BtUNDmgZc",
        "outputId": "bda228fb-54f8-4319-93c4-68dc114e9caa"
      },
      "source": [
        "import os\r\n",
        "path = \"/content/drive/My Drive/DeepLearning_AI_Course/Deeplizard/Keras - Python Deep Learning Neural Network API/Data/Sign-Language-Digits-Dataset\"\r\n",
        "\r\n",
        "# 更改当前系统的路径\r\n",
        "os.chdir(path)\r\n",
        "# 显示当前路径的文件夹名字\r\n",
        "print(os.listdir())\r\n",
        "\r\n",
        "# 获得当前路径\r\n",
        "os.getcwd()"
      ],
      "execution_count": null,
      "outputs": [
        {
          "output_type": "stream",
          "text": [
            "['valid', 'test', 'train']\n"
          ],
          "name": "stdout"
        },
        {
          "output_type": "execute_result",
          "data": {
            "application/vnd.google.colaboratory.intrinsic+json": {
              "type": "string"
            },
            "text/plain": [
              "'/content/drive/My Drive/DeepLearning_AI_Course/Deeplizard/Keras - Python Deep Learning Neural Network API/Data/Sign-Language-Digits-Dataset'"
            ]
          },
          "metadata": {
            "tags": []
          },
          "execution_count": 12
        }
      ]
    },
    {
      "cell_type": "code",
      "metadata": {
        "colab": {
          "base_uri": "https://localhost:8080/"
        },
        "id": "9Rw8RuUPmtQj",
        "outputId": "469ed295-b912-4483-8a9a-f36f097c8401"
      },
      "source": [
        "os.chdir(\"..\")\r\n",
        "print(os.listdir())"
      ],
      "execution_count": null,
      "outputs": [
        {
          "output_type": "stream",
          "text": [
            "['dogs-vs-cats', 'MobileNet-samples', 'Sign-Language-Digits-Dataset']\n"
          ],
          "name": "stdout"
        }
      ]
    },
    {
      "cell_type": "code",
      "metadata": {
        "colab": {
          "base_uri": "https://localhost:8080/"
        },
        "id": "Myedpe4kmwFb",
        "outputId": "6d0e9397-f247-416b-a1f7-b285397c5e8e"
      },
      "source": [
        "\r\n",
        "train_path = './Sign-Language-Digits-Dataset/train'\r\n",
        "valid_path = './Sign-Language-Digits-Dataset/valid'\r\n",
        "test_path = './Sign-Language-Digits-Dataset/test'\r\n",
        "train_batches = ImageDataGenerator(preprocessing_function=tf.keras.applications.mobilenet.preprocess_input).flow_from_directory(\r\n",
        "    directory=train_path, target_size=(224,224), batch_size=10)\r\n",
        "valid_batches = ImageDataGenerator(preprocessing_function=tf.keras.applications.mobilenet.preprocess_input).flow_from_directory(\r\n",
        "    directory=valid_path, target_size=(224,224), batch_size=10)\r\n",
        "test_batches = ImageDataGenerator(preprocessing_function=tf.keras.applications.mobilenet.preprocess_input).flow_from_directory(\r\n",
        "    directory=test_path, target_size=(224,224), batch_size=10, shuffle=False)"
      ],
      "execution_count": null,
      "outputs": [
        {
          "output_type": "stream",
          "text": [
            "Found 1710 images belonging to 10 classes.\n",
            "Found 300 images belonging to 10 classes.\n",
            "Found 50 images belonging to 10 classes.\n"
          ],
          "name": "stdout"
        }
      ]
    },
    {
      "cell_type": "code",
      "metadata": {
        "colab": {
          "base_uri": "https://localhost:8080/"
        },
        "id": "I_-Ws-gvmxnD",
        "outputId": "949478c0-16f0-4ee9-ec4e-0729ca76e1dd"
      },
      "source": [
        "model.fit(x=train_batches,\r\n",
        "            steps_per_epoch=len(train_batches),\r\n",
        "            validation_data=valid_batches,\r\n",
        "            validation_steps=len(valid_batches),\r\n",
        "            epochs=30,\r\n",
        "            verbose=2\r\n",
        ")"
      ],
      "execution_count": null,
      "outputs": [
        {
          "output_type": "stream",
          "text": [
            "Epoch 1/30\n",
            "171/171 - 549s - loss: 0.6170 - accuracy: 0.8181 - val_loss: 0.2329 - val_accuracy: 0.9633\n",
            "Epoch 2/30\n",
            "171/171 - 6s - loss: 0.1094 - accuracy: 0.9801 - val_loss: 0.1085 - val_accuracy: 0.9867\n",
            "Epoch 3/30\n",
            "171/171 - 6s - loss: 0.0543 - accuracy: 0.9936 - val_loss: 0.0798 - val_accuracy: 0.9867\n",
            "Epoch 4/30\n",
            "171/171 - 6s - loss: 0.0350 - accuracy: 0.9947 - val_loss: 0.0784 - val_accuracy: 0.9867\n",
            "Epoch 5/30\n",
            "171/171 - 6s - loss: 0.0224 - accuracy: 0.9977 - val_loss: 0.0748 - val_accuracy: 0.9867\n",
            "Epoch 6/30\n",
            "171/171 - 6s - loss: 0.0181 - accuracy: 0.9982 - val_loss: 0.0669 - val_accuracy: 0.9900\n",
            "Epoch 7/30\n",
            "171/171 - 6s - loss: 0.0120 - accuracy: 1.0000 - val_loss: 0.0729 - val_accuracy: 0.9867\n",
            "Epoch 8/30\n",
            "171/171 - 6s - loss: 0.0069 - accuracy: 1.0000 - val_loss: 0.0728 - val_accuracy: 0.9867\n",
            "Epoch 9/30\n",
            "171/171 - 6s - loss: 0.0074 - accuracy: 1.0000 - val_loss: 0.0656 - val_accuracy: 0.9900\n",
            "Epoch 10/30\n",
            "171/171 - 6s - loss: 0.0054 - accuracy: 1.0000 - val_loss: 0.0720 - val_accuracy: 0.9900\n",
            "Epoch 11/30\n",
            "171/171 - 6s - loss: 0.0049 - accuracy: 0.9994 - val_loss: 0.0662 - val_accuracy: 0.9867\n",
            "Epoch 12/30\n",
            "171/171 - 6s - loss: 0.0045 - accuracy: 1.0000 - val_loss: 0.0701 - val_accuracy: 0.9900\n",
            "Epoch 13/30\n",
            "171/171 - 6s - loss: 0.0047 - accuracy: 0.9994 - val_loss: 0.0700 - val_accuracy: 0.9933\n",
            "Epoch 14/30\n",
            "171/171 - 6s - loss: 0.0027 - accuracy: 1.0000 - val_loss: 0.0713 - val_accuracy: 0.9867\n",
            "Epoch 15/30\n",
            "171/171 - 6s - loss: 0.0029 - accuracy: 1.0000 - val_loss: 0.0753 - val_accuracy: 0.9867\n",
            "Epoch 16/30\n",
            "171/171 - 6s - loss: 0.0025 - accuracy: 1.0000 - val_loss: 0.0692 - val_accuracy: 0.9900\n",
            "Epoch 17/30\n",
            "171/171 - 6s - loss: 0.0029 - accuracy: 1.0000 - val_loss: 0.0742 - val_accuracy: 0.9867\n",
            "Epoch 18/30\n",
            "171/171 - 6s - loss: 0.0027 - accuracy: 1.0000 - val_loss: 0.0752 - val_accuracy: 0.9867\n",
            "Epoch 19/30\n",
            "171/171 - 6s - loss: 0.0018 - accuracy: 1.0000 - val_loss: 0.0681 - val_accuracy: 0.9933\n",
            "Epoch 20/30\n",
            "171/171 - 6s - loss: 0.0030 - accuracy: 0.9994 - val_loss: 0.0810 - val_accuracy: 0.9867\n",
            "Epoch 21/30\n",
            "171/171 - 6s - loss: 0.0075 - accuracy: 0.9988 - val_loss: 0.0795 - val_accuracy: 0.9900\n",
            "Epoch 22/30\n",
            "171/171 - 6s - loss: 0.0022 - accuracy: 1.0000 - val_loss: 0.0688 - val_accuracy: 0.9933\n",
            "Epoch 23/30\n",
            "171/171 - 6s - loss: 0.0012 - accuracy: 1.0000 - val_loss: 0.0708 - val_accuracy: 0.9933\n",
            "Epoch 24/30\n",
            "171/171 - 6s - loss: 0.0014 - accuracy: 1.0000 - val_loss: 0.0780 - val_accuracy: 0.9900\n",
            "Epoch 25/30\n",
            "171/171 - 6s - loss: 0.0019 - accuracy: 1.0000 - val_loss: 0.0752 - val_accuracy: 0.9900\n",
            "Epoch 26/30\n",
            "171/171 - 6s - loss: 8.3680e-04 - accuracy: 1.0000 - val_loss: 0.0710 - val_accuracy: 0.9933\n",
            "Epoch 27/30\n",
            "171/171 - 6s - loss: 0.0029 - accuracy: 0.9994 - val_loss: 0.1065 - val_accuracy: 0.9800\n",
            "Epoch 28/30\n",
            "171/171 - 6s - loss: 0.0045 - accuracy: 0.9982 - val_loss: 0.0978 - val_accuracy: 0.9833\n",
            "Epoch 29/30\n",
            "171/171 - 6s - loss: 0.0121 - accuracy: 0.9977 - val_loss: 0.0822 - val_accuracy: 0.9933\n",
            "Epoch 30/30\n",
            "171/171 - 6s - loss: 0.0034 - accuracy: 0.9994 - val_loss: 0.0690 - val_accuracy: 0.9933\n"
          ],
          "name": "stdout"
        },
        {
          "output_type": "execute_result",
          "data": {
            "text/plain": [
              "<tensorflow.python.keras.callbacks.History at 0x7fdfe0107f98>"
            ]
          },
          "metadata": {
            "tags": []
          },
          "execution_count": 15
        }
      ]
    },
    {
      "cell_type": "markdown",
      "metadata": {
        "id": "Iatorpqxm_rL"
      },
      "source": [
        "在训练的早期，训练集的准确率已经达到100%。我们的验证精度落后了一些，只有90%，所以我们在这里进行了一点过度拟合，但我们可以看到，它没有在我们到达最后一个纪元时停止。\r\n",
        "\r\n",
        "也许运行更多的时代将产生更好的结果。自己试试!此外，你可以随意调整任何超参数，训练更多或更少的层，并进行试验，看看是否可以得到更好的结果。在评论中分享你的经验吧!"
      ]
    },
    {
      "cell_type": "markdown",
      "metadata": {
        "id": "q3nlplrVnC2Y"
      },
      "source": [
        "## 3.绘制混乱矩阵描述预测结果"
      ]
    },
    {
      "cell_type": "markdown",
      "metadata": {
        "id": "XbTSCWoTnt4q"
      },
      "source": [
        "通过从未打乱的测试集中抓取类，我们以与前面章节中看到的相同的方式设置test_labels。"
      ]
    },
    {
      "cell_type": "code",
      "metadata": {
        "colab": {
          "base_uri": "https://localhost:8080/"
        },
        "id": "bjtnvoAem3OC",
        "outputId": "4224975e-705e-463f-ec81-c81002b536c3"
      },
      "source": [
        "test_labels = test_batches.classes\r\n",
        "print(test_labels)"
      ],
      "execution_count": null,
      "outputs": [
        {
          "output_type": "stream",
          "text": [
            "[0 0 0 0 0 1 1 1 1 1 2 2 2 2 2 3 3 3 3 3 4 4 4 4 4 5 5 5 5 5 6 6 6 6 6 7 7\n",
            " 7 7 7 8 8 8 8 8 9 9 9 9 9]\n"
          ],
          "name": "stdout"
        }
      ]
    },
    {
      "cell_type": "markdown",
      "metadata": {
        "id": "t6fCm_qnn4hh"
      },
      "source": [
        "我们使用model.predict()来运行预测，就像我们在前面的章节中使用这个函数一样。"
      ]
    },
    {
      "cell_type": "code",
      "metadata": {
        "id": "qwy3x4s3n2Lt"
      },
      "source": [
        "predictions = model.predict(x=test_batches, steps=len(test_batches), verbose=0)"
      ],
      "execution_count": null,
      "outputs": []
    },
    {
      "cell_type": "markdown",
      "metadata": {
        "id": "lOhSiLQPn8pK"
      },
      "source": [
        "然后我们使用scikit-learn在上一集导入的混淆矩阵创建一个混淆矩阵对象。"
      ]
    },
    {
      "cell_type": "code",
      "metadata": {
        "id": "rVTvObrLn6s_"
      },
      "source": [
        "%matplotlib inline\r\n",
        "from sklearn.metrics import confusion_matrix\r\n",
        "import itertools\r\n",
        "import matplotlib.pyplot as plt\r\n",
        "\r\n",
        "# 准备数据\r\n",
        "import numpy as np\r\n",
        "from random import randint\r\n",
        "from sklearn.utils import shuffle\r\n",
        "from sklearn.preprocessing import MinMaxScaler"
      ],
      "execution_count": null,
      "outputs": []
    },
    {
      "cell_type": "code",
      "metadata": {
        "id": "5kpnZAE_n_B6"
      },
      "source": [
        "cm = confusion_matrix(y_true=test_labels,y_pred=predictions.argmax(axis=1))\r\n"
      ],
      "execution_count": null,
      "outputs": []
    },
    {
      "cell_type": "code",
      "metadata": {
        "id": "L_yh16gboLik"
      },
      "source": [
        "def plot_confusion_matrix(cm, classes,\r\n",
        "                          normalize=False,\r\n",
        "                          title='Confusion matrix',\r\n",
        "                          cmap=plt.cm.Blues):\r\n",
        "    \"\"\"\r\n",
        "    This function prints and plots the confusion matrix.\r\n",
        "    Normalization can be applied by setting `normalize=True`.\r\n",
        "    \"\"\"\r\n",
        "    plt.imshow(cm, interpolation='nearest', cmap=cmap)\r\n",
        "    plt.title(title)\r\n",
        "    plt.colorbar()\r\n",
        "    tick_marks = np.arange(len(classes))\r\n",
        "    plt.xticks(tick_marks, classes, rotation=45)\r\n",
        "    plt.yticks(tick_marks, classes)\r\n",
        "\r\n",
        "    if normalize:\r\n",
        "        cm = cm.astype('float') / cm.sum(axis=1)[:, np.newaxis]\r\n",
        "        print(\"Normalized confusion matrix\")\r\n",
        "    else:\r\n",
        "        print('Confusion matrix, without normalization')\r\n",
        "\r\n",
        "    print(cm)\r\n",
        "\r\n",
        "    thresh = cm.max() / 2.\r\n",
        "    for i, j in itertools.product(range(cm.shape[0]), range(cm.shape[1])):\r\n",
        "        plt.text(j, i, cm[i, j],\r\n",
        "            horizontalalignment=\"center\",\r\n",
        "            color=\"white\" if cm[i, j] > thresh else \"black\")\r\n",
        "\r\n",
        "    plt.tight_layout()\r\n",
        "    plt.ylabel('True label')\r\n",
        "    plt.xlabel('Predicted label')"
      ],
      "execution_count": null,
      "outputs": []
    },
    {
      "cell_type": "markdown",
      "metadata": {
        "id": "hoIGn-icoXzY"
      },
      "source": [
        "现在我们只打印test_batch中的class_indices，这样我们就可以看到类的顺序，并在为混淆矩阵创建标签时以相同的顺序指定它们。"
      ]
    },
    {
      "cell_type": "code",
      "metadata": {
        "colab": {
          "base_uri": "https://localhost:8080/"
        },
        "id": "wRm8DT9toUvT",
        "outputId": "30fd93c9-052d-4cd5-a34c-82a7c07ac171"
      },
      "source": [
        "test_batches.class_indices"
      ],
      "execution_count": null,
      "outputs": [
        {
          "output_type": "execute_result",
          "data": {
            "text/plain": [
              "{'0': 0,\n",
              " '1': 1,\n",
              " '2': 2,\n",
              " '3': 3,\n",
              " '4': 4,\n",
              " '5': 5,\n",
              " '6': 6,\n",
              " '7': 7,\n",
              " '8': 8,\n",
              " '9': 9}"
            ]
          },
          "metadata": {
            "tags": []
          },
          "execution_count": 24
        }
      ]
    },
    {
      "cell_type": "markdown",
      "metadata": {
        "id": "Yq_08mllodQp"
      },
      "source": [
        "在创建标签之后，我们绘制我们的混淆矩阵。"
      ]
    },
    {
      "cell_type": "code",
      "metadata": {
        "colab": {
          "base_uri": "https://localhost:8080/",
          "height": 507
        },
        "id": "fa9IaIcGoaMP",
        "outputId": "98852d02-7363-4fe7-e892-50a57b638cd4"
      },
      "source": [
        "cm_plot_labels = ['0','1','2','3','4','5','6','7','8','9']\r\n",
        "plot_confusion_matrix(cm=cm, classes=cm_plot_labels, title='Confusion Matrix')"
      ],
      "execution_count": null,
      "outputs": [
        {
          "output_type": "stream",
          "text": [
            "Confusion matrix, without normalization\n",
            "[[5 0 0 0 0 0 0 0 0 0]\n",
            " [0 5 0 0 0 0 0 0 0 0]\n",
            " [0 0 5 0 0 0 0 0 0 0]\n",
            " [0 0 0 5 0 0 0 0 0 0]\n",
            " [0 0 0 0 4 0 0 0 0 1]\n",
            " [0 0 0 0 0 5 0 0 0 0]\n",
            " [0 0 0 0 0 0 5 0 0 0]\n",
            " [0 0 0 0 0 0 0 5 0 0]\n",
            " [0 0 0 0 0 0 0 0 5 0]\n",
            " [0 0 0 0 0 0 0 0 0 5]]\n"
          ],
          "name": "stdout"
        },
        {
          "output_type": "display_data",
          "data": {
            "image/png": "[encoded data removed]",
            "text/plain": [
              "<Figure size 432x288 with 2 Axes>"
            ]
          },
          "metadata": {
            "tags": [],
            "needs_background": "light"
          }
        }
      ]
    },
    {
      "cell_type": "markdown",
      "metadata": {
        "id": "wlezkfyAooxp"
      },
      "source": [
        "看起来很好!看看蓝色的对角线，它包含了所有正确预测的样本，我们可以知道这个模型做得很好。每个类都有5个样本，这里有很多5个样本。总的来说，模型给出了50个错误预测中的5个，这使我们在测试集上的准确率达到了99%。还不错。正如前面提到的，这个模型仍然有改进的余地，所以如果您实现了任何一个，并且在测试集上获得了超过99%的准确率，请在评论中分享"
      ]
    },
    {
      "cell_type": "code",
      "metadata": {
        "id": "SWTDDErEonBD"
      },
      "source": [
        ""
      ],
      "execution_count": null,
      "outputs": []
    }
  ]
}