{
  "nbformat": 4,
  "nbformat_minor": 0,
  "metadata": {
    "colab": {
      "name": "22_Reproducible Results With Keras.ipynb",
      "provenance": [],
      "collapsed_sections": [],
      "authorship_tag": "ABX9TyMwlMEhgslfKXJ0nm+TOpyd",
      "include_colab_link": true
    },
    "kernelspec": {
      "name": "python3",
      "display_name": "Python 3"
    }
  },
  "cells": [
    {
      "cell_type": "markdown",
      "metadata": {
        "id": "view-in-github",
        "colab_type": "text"
      },
      "source": [
        "<a href=\"https://colab.research.google.com/github/YinGuoX/Deep_Learning_Keras_WithDeeplizard/blob/master/22_Reproducible_Results_With_Keras.ipynb\" target=\"_parent\"><img src=\"https://colab.research.google.com/assets/colab-badge.svg\" alt=\"Open In Colab\"/></a>"
      ]
    },
    {
      "cell_type": "markdown",
      "metadata": {
        "id": "4N7eqeUrSzCY"
      },
      "source": [
        "# Reproducible Results With Keras\r\n",
        "在本集中，我们将展示如何使用Keras通过人工神经网络获得可重复的结果。\r\n",
        "\r\n",
        "您可能已经注意到，当您在截然不同的时间段内多次训练单个模型时，在损失和准确性指标或预测方面，您可能会在每次训练期间得到不同的结果。\r\n",
        "\r\n",
        "这是因为在训练模型时，首先使用随机数初始化模型的权重。 由于这种随机初始化，当我们训练模型时，权重将以不同的随机值开始，然后在训练过程中通过梯度下降而动态变化。\r\n",
        "\r\n",
        "每次训练都是如此。所以，对于每一个不同的时间，我们将会用不同的随机的权值集合开始。\r\n",
        "\r\n",
        "让我们来讨论一个例子。假设我们今天创建了一个模型并对其进行训练，然后使用该模型对图像分类进行预测。\r\n",
        "\r\n",
        "这个模型可能会告诉我们，有98%的可能性我们通过的最后一张图像是一只狗的图像。由于图像确实是一只狗，我们认为这是很好的，然后关闭我们的程序，没有在磁盘上保存我们的模型的副本。\r\n",
        "\r\n",
        "第二天，我们再次打开我们的程序，我们仍然保留了模型架构的代码。然后，我们编译这个模型，并将它训练成与我们昨天所做的完全相同的数据，用于相同数量的纪元。\r\n",
        "\r\n",
        "然后给它同样的图像来预测，但这一次，它告诉我们，我们的图像是狗的确定性只有95%，而昨天是98%。这说明了当我们用完全相同的训练数据训练我们的模型时，由于初始化的随机权值，我们可能会得到不同的结果。\r\n",
        "\r\n",
        "这种变化是好的，而且由于权值初始化的随机性，以及其他与我们的网络相关的随机配置，例如dropout，这是意料之中的。回想一下，dropout从指定的层中随机删除节点。\r\n",
        "\r\n",
        "虽然这种变化是意料之中的，但有时我们希望我们的模型能够重现完全相同的结果，而不管我们是在什么时候训练它，当然只要我们是在相同的训练数据上这样做。\r\n",
        "\r\n",
        "在课堂作业或现场演示中，我们可能希望这种再现性，这样我们就可以提前为我们的模型将产生的确切结果做好准备。也许我们甚至想要这种再现性，只是为了在我们的模型的开发阶段进行测试。\r\n",
        "\r\n",
        "无论出于什么原因，我们都希望实现可再现的结果，现在我们将展示如何实现Keras模型的可再现性。\r\n",
        "\r\n",
        "## 1.随机种子的重现性\r\n",
        "\r\n",
        "本质上，我们需要做的是去除训练过程中发生的随机性。我们可以在构建和训练我们的模型之前，将随机种子设置为任意给定的数字。\r\n",
        "\r\n",
        "通过设置一个随机种子,我们强迫的“随机”初始化权重生成基于种子。之后只要我们使用相同的随机种子,我们可以确保所有的随机变量总是会在我们的模型中生成相同的方式。\r\n",
        "\r\n",
        "如果我们没有设置随机种子，那么每次我们训练我们的模型时，随机变量就会产生不同的结果。\r\n",
        "\r\n",
        "对于Keras，我们将为Python、NumPy或TensorFlow生成的任何随机数生成一个随机种子。为此，我们必须分别为每个库设置随机种子。\r\n",
        "\r\n",
        "我们要确保在运行与模型相关的任何其他代码之前，在程序开始时就设置了随机种子。\r\n",
        "\r\n",
        "让我们看看代码是怎样的。\r\n",
        "\r\n",
        "我们首先导入numpy、tensorflow和Python库random。"
      ]
    },
    {
      "cell_type": "code",
      "metadata": {
        "id": "EOJ-egiXSu2P"
      },
      "source": [
        "import numpy as np\r\n",
        "import tensorflow as tf\r\n",
        "import random as rn"
      ],
      "execution_count": null,
      "outputs": []
    },
    {
      "cell_type": "markdown",
      "metadata": {
        "id": "xjox-sVbT6cp"
      },
      "source": [
        "在设置随机种子之前，[Keras文档](https://keras.io/getting_started/faq/#how-can-i-obtain-reproducible-results-using-keras-during-development)让我们知道下面的代码段对于某些基于散列的算法的可再现性是必需的，因此我们将其直接放在import语句的下面。\r\n",
        "\r\n"
      ]
    },
    {
      "cell_type": "code",
      "metadata": {
        "id": "PTfFjCgST59b"
      },
      "source": [
        "import os\r\n",
        "os.environ['PYTHONHASHSEED'] = '0'"
      ],
      "execution_count": null,
      "outputs": []
    },
    {
      "cell_type": "markdown",
      "metadata": {
        "id": "rVBLee7UUS4x"
      },
      "source": [
        "同样根据Keras文档，注意当在GPU上运行代码时，由于GPU并行运行许多操作，一些操作有不确定的输出，因此执行的顺序并不总是得到保证。我们可以通过简单地运行以下一行来强制代码在CPU上运行，从而避免不确定性操作"
      ]
    },
    {
      "cell_type": "code",
      "metadata": {
        "id": "d7kbTsUYUHg2"
      },
      "source": [
        "os.environ['CUDA_VISIBLE_DEVICES'] = ''"
      ],
      "execution_count": null,
      "outputs": []
    },
    {
      "cell_type": "markdown",
      "metadata": {
        "id": "KIxeBS5tUXJ4"
      },
      "source": [
        "接下来，我们为numpy设置随机种子。"
      ]
    },
    {
      "cell_type": "code",
      "metadata": {
        "id": "qkXnTANAUUVd"
      },
      "source": [
        "np.random.seed(37)"
      ],
      "execution_count": null,
      "outputs": []
    },
    {
      "cell_type": "markdown",
      "metadata": {
        "id": "Y02tMlcCUdVe"
      },
      "source": [
        "我已经为我的随机种子指定了37，但是您可以使用任何您想要的int。\r\n",
        "\r\n",
        "然后，我们使用random库为Python指定随机种子。"
      ]
    },
    {
      "cell_type": "code",
      "metadata": {
        "id": "_fHamSsdUYXL"
      },
      "source": [
        "rn.seed(1254)"
      ],
      "execution_count": null,
      "outputs": []
    },
    {
      "cell_type": "markdown",
      "metadata": {
        "id": "FqT_Ceu1UjYm"
      },
      "source": [
        "最后，我们对TensorFlow做同样的事情。"
      ]
    },
    {
      "cell_type": "code",
      "metadata": {
        "id": "CrGimm8NUhOq"
      },
      "source": [
        "tf.random.set_seed(89)"
      ],
      "execution_count": null,
      "outputs": []
    },
    {
      "cell_type": "markdown",
      "metadata": {
        "id": "F529hHQPUnl_"
      },
      "source": [
        "正如前面提到的，所有这些代码都需要在程序的开始部分。然后，在所有这些种子都设置好之后，您可以继续创建和训练您的模型。\r\n",
        "\r\n",
        "请注意，[Keras文档](https://keras.io/getting_started/faq/#how-can-i-obtain-reproducible-results-using-keras-during-development)在制作本集的视频部分后发生了变化。该文档不再声明需要使用视频中显示的相应代码强制TensorFlow使用单个线程来获得可重现的结果。\r\n",
        "\r\n",
        "这就是从我们的Keras模型获得可重现结果的全部内容!\r\n",
        "\r\n",
        "希望您现在已经理解了训练中所涉及的随机性背后的直觉，以及它如何影响我们从模型中获得可重现结果的能力，以及在需要时如何强制再现。"
      ]
    },
    {
      "cell_type": "code",
      "metadata": {
        "id": "fwSV4aXmUkkC"
      },
      "source": [
        ""
      ],
      "execution_count": null,
      "outputs": []
    }
  ]
}